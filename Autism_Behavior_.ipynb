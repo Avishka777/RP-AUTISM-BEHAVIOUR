{
  "nbformat": 4,
  "nbformat_minor": 0,
  "metadata": {
    "colab": {
      "provenance": []
    },
    "kernelspec": {
      "name": "python3",
      "display_name": "Python 3"
    },
    "language_info": {
      "name": "python"
    }
  },
  "cells": [
    {
      "cell_type": "markdown",
      "source": [
        "# **Step 1:  Import necessary libraries**"
      ],
      "metadata": {
        "id": "o44igdh-3T01"
      }
    },
    {
      "cell_type": "code",
      "execution_count": 63,
      "metadata": {
        "id": "FpcCOoLe3EYT"
      },
      "outputs": [],
      "source": [
        "# -------------------------------\n",
        "# 1. Import necessary libraries\n",
        "# -------------------------------\n",
        "# Import necessary libraries\n",
        "import pandas as pd              # For data manipulation\n",
        "import numpy as np               # For numerical operations\n",
        "import matplotlib.pyplot as plt  # For plotting graphs\n",
        "\n",
        "# Import scikit-learn modules for model training and evaluation\n",
        "from sklearn.model_selection import train_test_split  # For splitting dataset\n",
        "from sklearn.preprocessing import LabelEncoder         # For encoding categorical variables\n",
        "from sklearn.ensemble import RandomForestClassifier      # Our chosen model\n",
        "from sklearn.metrics import accuracy_score, confusion_matrix, classification_report\n",
        "\n",
        "# Enable inline plotting\n",
        "%matplotlib inline"
      ]
    },
    {
      "cell_type": "markdown",
      "source": [
        "# **Step 2: Load and Explore the Dataset**"
      ],
      "metadata": {
        "id": "CHIwy-RM3p6q"
      }
    },
    {
      "cell_type": "code",
      "source": [
        "# -------------------------------\n",
        "# 2. Load and Explore the Dataset\n",
        "# -------------------------------\n",
        "\n",
        "# Read the dataset (ensure the file is in your Colab environment)\n",
        "data = pd.read_csv('Autism Behaviour Dataset.csv')\n",
        "\n",
        "# Let's look at the first few rows\n",
        "print(\"First 5 rows of the raw dataset:\")\n",
        "print(data.head())\n",
        "\n",
        "print(\"\\nDataset Info:\")\n",
        "print(data.info())"
      ],
      "metadata": {
        "colab": {
          "base_uri": "https://localhost:8080/"
        },
        "id": "U3ae9vbZ3LqM",
        "outputId": "305cfb54-f7e7-48eb-e308-19464b04453c"
      },
      "execution_count": 64,
      "outputs": [
        {
          "output_type": "stream",
          "name": "stdout",
          "text": [
            "First 5 rows of the raw dataset:\n",
            "   Child ID  Age  Gender Current Mood  Parent Satisfaction  Engagement Level  \\\n",
            "0         1   10  Female        Happy                    4                 5   \n",
            "1         2    7  Female        Happy                    5                 4   \n",
            "2         3    9  Female        Happy                    5                 4   \n",
            "3         4    7  Female        Happy                    5                 4   \n",
            "4         5   10  Female        Happy                    5                 5   \n",
            "\n",
            "   Completed Tasks  Time Spent  Correct in First Attempt      Level  \n",
            "0                9        94.1                         6  Very High  \n",
            "1                8        85.5                         7       High  \n",
            "2                8        77.1                         7       High  \n",
            "3                8        79.6                         4       High  \n",
            "4                9        98.3                         7  Very High  \n",
            "\n",
            "Dataset Info:\n",
            "<class 'pandas.core.frame.DataFrame'>\n",
            "RangeIndex: 800 entries, 0 to 799\n",
            "Data columns (total 10 columns):\n",
            " #   Column                    Non-Null Count  Dtype  \n",
            "---  ------                    --------------  -----  \n",
            " 0   Child ID                  800 non-null    int64  \n",
            " 1   Age                       800 non-null    int64  \n",
            " 2   Gender                    800 non-null    object \n",
            " 3   Current Mood              800 non-null    object \n",
            " 4   Parent Satisfaction       800 non-null    int64  \n",
            " 5   Engagement Level          800 non-null    int64  \n",
            " 6   Completed Tasks           800 non-null    int64  \n",
            " 7   Time Spent                800 non-null    float64\n",
            " 8   Correct in First Attempt  800 non-null    int64  \n",
            " 9   Level                     800 non-null    object \n",
            "dtypes: float64(1), int64(6), object(3)\n",
            "memory usage: 62.6+ KB\n",
            "None\n"
          ]
        }
      ]
    },
    {
      "cell_type": "markdown",
      "source": [
        "# **Step 3: Check for Missing Values**"
      ],
      "metadata": {
        "id": "lpMlz0f97LTB"
      }
    },
    {
      "cell_type": "code",
      "source": [
        "# =========================================\n",
        "# 3. Check for Missing Values\n",
        "# =========================================\n",
        "print(\"\\nChecking for missing values:\")\n",
        "print(data.isnull().sum())\n",
        "\n",
        "# (Optional) handle missing values if needed\n",
        "# data.dropna(inplace=True)\n",
        "# or data.fillna(method='ffill', inplace=True)"
      ],
      "metadata": {
        "colab": {
          "base_uri": "https://localhost:8080/"
        },
        "id": "Z16r3-Vm7P-U",
        "outputId": "5f42462c-1842-4f3c-abd7-624ae9bb3926"
      },
      "execution_count": 65,
      "outputs": [
        {
          "output_type": "stream",
          "name": "stdout",
          "text": [
            "\n",
            "Checking for missing values:\n",
            "Child ID                    0\n",
            "Age                         0\n",
            "Gender                      0\n",
            "Current Mood                0\n",
            "Parent Satisfaction         0\n",
            "Engagement Level            0\n",
            "Completed Tasks             0\n",
            "Time Spent                  0\n",
            "Correct in First Attempt    0\n",
            "Level                       0\n",
            "dtype: int64\n"
          ]
        }
      ]
    },
    {
      "cell_type": "markdown",
      "source": [
        "# **Step 4: Identify Categorical vs. Numeric Columns**"
      ],
      "metadata": {
        "id": "a0F6MxAD30cd"
      }
    },
    {
      "cell_type": "code",
      "source": [
        "# =========================================\n",
        "# 4. Identify Categorical vs. Numeric Columns\n",
        "# =========================================\n",
        "# Based on your output, these columns have string categories:\n",
        "categorical_cols = [\"Gender\", \"Current Mood\", \"Level\"]\n",
        "\n",
        "# The following are already numeric (int or float):\n",
        "# \"Child ID\", \"Age\", \"Parent Satisfaction\", \"Engagement Level\",\n",
        "# \"Completed Tasks\", \"Time Spent\", \"Correct in First Attempt\"\n",
        "# We'll treat them as numeric."
      ],
      "metadata": {
        "id": "tMSbb6cN34cf"
      },
      "execution_count": 66,
      "outputs": []
    },
    {
      "cell_type": "markdown",
      "source": [
        "# **Step 5: Split the Data into Training and Testing Sets**"
      ],
      "metadata": {
        "id": "Qb76lKMY4UZz"
      }
    },
    {
      "cell_type": "code",
      "source": [
        "# -------------------------------\n",
        "# 5. Split the Data into Training and Testing Sets\n",
        "# -------------------------------\n",
        "# We'll use 80% of the data for training and 20% for testing.\n",
        "X_train, X_test, y_train, y_test = train_test_split(X, y, test_size=0.2, random_state=42)"
      ],
      "metadata": {
        "id": "_IeWy2S94Y6p"
      },
      "execution_count": 67,
      "outputs": []
    },
    {
      "cell_type": "markdown",
      "source": [
        "# **Step 6: Label Encode the Categorical Columns**"
      ],
      "metadata": {
        "id": "Bzzp2T8W4fLP"
      }
    },
    {
      "cell_type": "code",
      "source": [
        "# =========================================\n",
        "# 6. Label Encode the Categorical Columns\n",
        "# =========================================\n",
        "encoders = {}\n",
        "for col in categorical_cols:\n",
        "    le = LabelEncoder()\n",
        "    data[col] = le.fit_transform(data[col].astype(str))\n",
        "    encoders[col] = le\n",
        "\n",
        "print(\"\\nData after Label Encoding (preview):\")\n",
        "print(data.head())"
      ],
      "metadata": {
        "colab": {
          "base_uri": "https://localhost:8080/"
        },
        "id": "YjwVCSsb4q1w",
        "outputId": "537af38c-b5a6-414e-b4d5-82bb875d96db"
      },
      "execution_count": 68,
      "outputs": [
        {
          "output_type": "stream",
          "name": "stdout",
          "text": [
            "\n",
            "Data after Label Encoding (preview):\n",
            "   Child ID  Age  Gender  Current Mood  Parent Satisfaction  Engagement Level  \\\n",
            "0         1   10       0             2                    4                 5   \n",
            "1         2    7       0             2                    5                 4   \n",
            "2         3    9       0             2                    5                 4   \n",
            "3         4    7       0             2                    5                 4   \n",
            "4         5   10       0             2                    5                 5   \n",
            "\n",
            "   Completed Tasks  Time Spent  Correct in First Attempt  Level  \n",
            "0                9        94.1                         6      3  \n",
            "1                8        85.5                         7      0  \n",
            "2                8        77.1                         7      0  \n",
            "3                8        79.6                         4      0  \n",
            "4                9        98.3                         7      3  \n"
          ]
        }
      ]
    },
    {
      "cell_type": "markdown",
      "source": [
        "# **Step 7: Define Features (X) and Target (y)**"
      ],
      "metadata": {
        "id": "wQKdcXd64ww5"
      }
    },
    {
      "cell_type": "code",
      "source": [
        "# =========================================\n",
        "# 7. Define Features (X) and Target (y)\n",
        "# =========================================\n",
        "# We want to predict \"Level\", so exclude it from features.\n",
        "# Also, \"Child ID\" is usually just an identifier, so we skip it.\n",
        "feature_cols = [\n",
        "    \"Age\",\n",
        "    \"Gender\",\n",
        "    \"Current Mood\",\n",
        "    \"Parent Satisfaction\",\n",
        "    \"Engagement Level\",\n",
        "    \"Completed Tasks\",\n",
        "    \"Time Spent\",\n",
        "    \"Correct in First Attempt\"\n",
        "]\n",
        "target_col = \"Level\"\n",
        "\n",
        "X = data[feature_cols]\n",
        "y = data[target_col]"
      ],
      "metadata": {
        "id": "NdcUyFr_41dZ"
      },
      "execution_count": 69,
      "outputs": []
    },
    {
      "cell_type": "markdown",
      "source": [
        "# **Step 8: Split Data into Training and Test Sets**"
      ],
      "metadata": {
        "id": "5dndQq3W5Ezg"
      }
    },
    {
      "cell_type": "code",
      "source": [
        "# =========================================\n",
        "# 8. Split Data into Training and Test Sets\n",
        "# =========================================\n",
        "X_train, X_test, y_train, y_test = train_test_split(\n",
        "    X, y, test_size=0.2, random_state=42\n",
        ")\n",
        "\n",
        "print(\"\\nTraining set size:\", X_train.shape)\n",
        "print(\"Test set size:\", X_test.shape)\n"
      ],
      "metadata": {
        "colab": {
          "base_uri": "https://localhost:8080/"
        },
        "id": "2mdip9UY5I46",
        "outputId": "256c5577-399c-4b35-f142-7311eb0bf2ce"
      },
      "execution_count": 70,
      "outputs": [
        {
          "output_type": "stream",
          "name": "stdout",
          "text": [
            "\n",
            "Training set size: (640, 8)\n",
            "Test set size: (160, 8)\n"
          ]
        }
      ]
    },
    {
      "cell_type": "markdown",
      "source": [
        "# **Step 9: Train a Random Forest Classifier**"
      ],
      "metadata": {
        "id": "aTVoQBgD5Scl"
      }
    },
    {
      "cell_type": "code",
      "source": [
        "# =========================================\n",
        "# 9. Train a Random Forest Classifier\n",
        "# =========================================\n",
        "model = RandomForestClassifier(n_estimators=100, random_state=42)\n",
        "model.fit(X_train, y_train)"
      ],
      "metadata": {
        "colab": {
          "base_uri": "https://localhost:8080/",
          "height": 80
        },
        "id": "LaRRAgi15XBS",
        "outputId": "457fa60a-906e-4464-ef8b-347de2bd92a7"
      },
      "execution_count": 71,
      "outputs": [
        {
          "output_type": "execute_result",
          "data": {
            "text/plain": [
              "RandomForestClassifier(random_state=42)"
            ],
            "text/html": [
              "<style>#sk-container-id-4 {\n",
              "  /* Definition of color scheme common for light and dark mode */\n",
              "  --sklearn-color-text: #000;\n",
              "  --sklearn-color-text-muted: #666;\n",
              "  --sklearn-color-line: gray;\n",
              "  /* Definition of color scheme for unfitted estimators */\n",
              "  --sklearn-color-unfitted-level-0: #fff5e6;\n",
              "  --sklearn-color-unfitted-level-1: #f6e4d2;\n",
              "  --sklearn-color-unfitted-level-2: #ffe0b3;\n",
              "  --sklearn-color-unfitted-level-3: chocolate;\n",
              "  /* Definition of color scheme for fitted estimators */\n",
              "  --sklearn-color-fitted-level-0: #f0f8ff;\n",
              "  --sklearn-color-fitted-level-1: #d4ebff;\n",
              "  --sklearn-color-fitted-level-2: #b3dbfd;\n",
              "  --sklearn-color-fitted-level-3: cornflowerblue;\n",
              "\n",
              "  /* Specific color for light theme */\n",
              "  --sklearn-color-text-on-default-background: var(--sg-text-color, var(--theme-code-foreground, var(--jp-content-font-color1, black)));\n",
              "  --sklearn-color-background: var(--sg-background-color, var(--theme-background, var(--jp-layout-color0, white)));\n",
              "  --sklearn-color-border-box: var(--sg-text-color, var(--theme-code-foreground, var(--jp-content-font-color1, black)));\n",
              "  --sklearn-color-icon: #696969;\n",
              "\n",
              "  @media (prefers-color-scheme: dark) {\n",
              "    /* Redefinition of color scheme for dark theme */\n",
              "    --sklearn-color-text-on-default-background: var(--sg-text-color, var(--theme-code-foreground, var(--jp-content-font-color1, white)));\n",
              "    --sklearn-color-background: var(--sg-background-color, var(--theme-background, var(--jp-layout-color0, #111)));\n",
              "    --sklearn-color-border-box: var(--sg-text-color, var(--theme-code-foreground, var(--jp-content-font-color1, white)));\n",
              "    --sklearn-color-icon: #878787;\n",
              "  }\n",
              "}\n",
              "\n",
              "#sk-container-id-4 {\n",
              "  color: var(--sklearn-color-text);\n",
              "}\n",
              "\n",
              "#sk-container-id-4 pre {\n",
              "  padding: 0;\n",
              "}\n",
              "\n",
              "#sk-container-id-4 input.sk-hidden--visually {\n",
              "  border: 0;\n",
              "  clip: rect(1px 1px 1px 1px);\n",
              "  clip: rect(1px, 1px, 1px, 1px);\n",
              "  height: 1px;\n",
              "  margin: -1px;\n",
              "  overflow: hidden;\n",
              "  padding: 0;\n",
              "  position: absolute;\n",
              "  width: 1px;\n",
              "}\n",
              "\n",
              "#sk-container-id-4 div.sk-dashed-wrapped {\n",
              "  border: 1px dashed var(--sklearn-color-line);\n",
              "  margin: 0 0.4em 0.5em 0.4em;\n",
              "  box-sizing: border-box;\n",
              "  padding-bottom: 0.4em;\n",
              "  background-color: var(--sklearn-color-background);\n",
              "}\n",
              "\n",
              "#sk-container-id-4 div.sk-container {\n",
              "  /* jupyter's `normalize.less` sets `[hidden] { display: none; }`\n",
              "     but bootstrap.min.css set `[hidden] { display: none !important; }`\n",
              "     so we also need the `!important` here to be able to override the\n",
              "     default hidden behavior on the sphinx rendered scikit-learn.org.\n",
              "     See: https://github.com/scikit-learn/scikit-learn/issues/21755 */\n",
              "  display: inline-block !important;\n",
              "  position: relative;\n",
              "}\n",
              "\n",
              "#sk-container-id-4 div.sk-text-repr-fallback {\n",
              "  display: none;\n",
              "}\n",
              "\n",
              "div.sk-parallel-item,\n",
              "div.sk-serial,\n",
              "div.sk-item {\n",
              "  /* draw centered vertical line to link estimators */\n",
              "  background-image: linear-gradient(var(--sklearn-color-text-on-default-background), var(--sklearn-color-text-on-default-background));\n",
              "  background-size: 2px 100%;\n",
              "  background-repeat: no-repeat;\n",
              "  background-position: center center;\n",
              "}\n",
              "\n",
              "/* Parallel-specific style estimator block */\n",
              "\n",
              "#sk-container-id-4 div.sk-parallel-item::after {\n",
              "  content: \"\";\n",
              "  width: 100%;\n",
              "  border-bottom: 2px solid var(--sklearn-color-text-on-default-background);\n",
              "  flex-grow: 1;\n",
              "}\n",
              "\n",
              "#sk-container-id-4 div.sk-parallel {\n",
              "  display: flex;\n",
              "  align-items: stretch;\n",
              "  justify-content: center;\n",
              "  background-color: var(--sklearn-color-background);\n",
              "  position: relative;\n",
              "}\n",
              "\n",
              "#sk-container-id-4 div.sk-parallel-item {\n",
              "  display: flex;\n",
              "  flex-direction: column;\n",
              "}\n",
              "\n",
              "#sk-container-id-4 div.sk-parallel-item:first-child::after {\n",
              "  align-self: flex-end;\n",
              "  width: 50%;\n",
              "}\n",
              "\n",
              "#sk-container-id-4 div.sk-parallel-item:last-child::after {\n",
              "  align-self: flex-start;\n",
              "  width: 50%;\n",
              "}\n",
              "\n",
              "#sk-container-id-4 div.sk-parallel-item:only-child::after {\n",
              "  width: 0;\n",
              "}\n",
              "\n",
              "/* Serial-specific style estimator block */\n",
              "\n",
              "#sk-container-id-4 div.sk-serial {\n",
              "  display: flex;\n",
              "  flex-direction: column;\n",
              "  align-items: center;\n",
              "  background-color: var(--sklearn-color-background);\n",
              "  padding-right: 1em;\n",
              "  padding-left: 1em;\n",
              "}\n",
              "\n",
              "\n",
              "/* Toggleable style: style used for estimator/Pipeline/ColumnTransformer box that is\n",
              "clickable and can be expanded/collapsed.\n",
              "- Pipeline and ColumnTransformer use this feature and define the default style\n",
              "- Estimators will overwrite some part of the style using the `sk-estimator` class\n",
              "*/\n",
              "\n",
              "/* Pipeline and ColumnTransformer style (default) */\n",
              "\n",
              "#sk-container-id-4 div.sk-toggleable {\n",
              "  /* Default theme specific background. It is overwritten whether we have a\n",
              "  specific estimator or a Pipeline/ColumnTransformer */\n",
              "  background-color: var(--sklearn-color-background);\n",
              "}\n",
              "\n",
              "/* Toggleable label */\n",
              "#sk-container-id-4 label.sk-toggleable__label {\n",
              "  cursor: pointer;\n",
              "  display: flex;\n",
              "  width: 100%;\n",
              "  margin-bottom: 0;\n",
              "  padding: 0.5em;\n",
              "  box-sizing: border-box;\n",
              "  text-align: center;\n",
              "  align-items: start;\n",
              "  justify-content: space-between;\n",
              "  gap: 0.5em;\n",
              "}\n",
              "\n",
              "#sk-container-id-4 label.sk-toggleable__label .caption {\n",
              "  font-size: 0.6rem;\n",
              "  font-weight: lighter;\n",
              "  color: var(--sklearn-color-text-muted);\n",
              "}\n",
              "\n",
              "#sk-container-id-4 label.sk-toggleable__label-arrow:before {\n",
              "  /* Arrow on the left of the label */\n",
              "  content: \"▸\";\n",
              "  float: left;\n",
              "  margin-right: 0.25em;\n",
              "  color: var(--sklearn-color-icon);\n",
              "}\n",
              "\n",
              "#sk-container-id-4 label.sk-toggleable__label-arrow:hover:before {\n",
              "  color: var(--sklearn-color-text);\n",
              "}\n",
              "\n",
              "/* Toggleable content - dropdown */\n",
              "\n",
              "#sk-container-id-4 div.sk-toggleable__content {\n",
              "  max-height: 0;\n",
              "  max-width: 0;\n",
              "  overflow: hidden;\n",
              "  text-align: left;\n",
              "  /* unfitted */\n",
              "  background-color: var(--sklearn-color-unfitted-level-0);\n",
              "}\n",
              "\n",
              "#sk-container-id-4 div.sk-toggleable__content.fitted {\n",
              "  /* fitted */\n",
              "  background-color: var(--sklearn-color-fitted-level-0);\n",
              "}\n",
              "\n",
              "#sk-container-id-4 div.sk-toggleable__content pre {\n",
              "  margin: 0.2em;\n",
              "  border-radius: 0.25em;\n",
              "  color: var(--sklearn-color-text);\n",
              "  /* unfitted */\n",
              "  background-color: var(--sklearn-color-unfitted-level-0);\n",
              "}\n",
              "\n",
              "#sk-container-id-4 div.sk-toggleable__content.fitted pre {\n",
              "  /* unfitted */\n",
              "  background-color: var(--sklearn-color-fitted-level-0);\n",
              "}\n",
              "\n",
              "#sk-container-id-4 input.sk-toggleable__control:checked~div.sk-toggleable__content {\n",
              "  /* Expand drop-down */\n",
              "  max-height: 200px;\n",
              "  max-width: 100%;\n",
              "  overflow: auto;\n",
              "}\n",
              "\n",
              "#sk-container-id-4 input.sk-toggleable__control:checked~label.sk-toggleable__label-arrow:before {\n",
              "  content: \"▾\";\n",
              "}\n",
              "\n",
              "/* Pipeline/ColumnTransformer-specific style */\n",
              "\n",
              "#sk-container-id-4 div.sk-label input.sk-toggleable__control:checked~label.sk-toggleable__label {\n",
              "  color: var(--sklearn-color-text);\n",
              "  background-color: var(--sklearn-color-unfitted-level-2);\n",
              "}\n",
              "\n",
              "#sk-container-id-4 div.sk-label.fitted input.sk-toggleable__control:checked~label.sk-toggleable__label {\n",
              "  background-color: var(--sklearn-color-fitted-level-2);\n",
              "}\n",
              "\n",
              "/* Estimator-specific style */\n",
              "\n",
              "/* Colorize estimator box */\n",
              "#sk-container-id-4 div.sk-estimator input.sk-toggleable__control:checked~label.sk-toggleable__label {\n",
              "  /* unfitted */\n",
              "  background-color: var(--sklearn-color-unfitted-level-2);\n",
              "}\n",
              "\n",
              "#sk-container-id-4 div.sk-estimator.fitted input.sk-toggleable__control:checked~label.sk-toggleable__label {\n",
              "  /* fitted */\n",
              "  background-color: var(--sklearn-color-fitted-level-2);\n",
              "}\n",
              "\n",
              "#sk-container-id-4 div.sk-label label.sk-toggleable__label,\n",
              "#sk-container-id-4 div.sk-label label {\n",
              "  /* The background is the default theme color */\n",
              "  color: var(--sklearn-color-text-on-default-background);\n",
              "}\n",
              "\n",
              "/* On hover, darken the color of the background */\n",
              "#sk-container-id-4 div.sk-label:hover label.sk-toggleable__label {\n",
              "  color: var(--sklearn-color-text);\n",
              "  background-color: var(--sklearn-color-unfitted-level-2);\n",
              "}\n",
              "\n",
              "/* Label box, darken color on hover, fitted */\n",
              "#sk-container-id-4 div.sk-label.fitted:hover label.sk-toggleable__label.fitted {\n",
              "  color: var(--sklearn-color-text);\n",
              "  background-color: var(--sklearn-color-fitted-level-2);\n",
              "}\n",
              "\n",
              "/* Estimator label */\n",
              "\n",
              "#sk-container-id-4 div.sk-label label {\n",
              "  font-family: monospace;\n",
              "  font-weight: bold;\n",
              "  display: inline-block;\n",
              "  line-height: 1.2em;\n",
              "}\n",
              "\n",
              "#sk-container-id-4 div.sk-label-container {\n",
              "  text-align: center;\n",
              "}\n",
              "\n",
              "/* Estimator-specific */\n",
              "#sk-container-id-4 div.sk-estimator {\n",
              "  font-family: monospace;\n",
              "  border: 1px dotted var(--sklearn-color-border-box);\n",
              "  border-radius: 0.25em;\n",
              "  box-sizing: border-box;\n",
              "  margin-bottom: 0.5em;\n",
              "  /* unfitted */\n",
              "  background-color: var(--sklearn-color-unfitted-level-0);\n",
              "}\n",
              "\n",
              "#sk-container-id-4 div.sk-estimator.fitted {\n",
              "  /* fitted */\n",
              "  background-color: var(--sklearn-color-fitted-level-0);\n",
              "}\n",
              "\n",
              "/* on hover */\n",
              "#sk-container-id-4 div.sk-estimator:hover {\n",
              "  /* unfitted */\n",
              "  background-color: var(--sklearn-color-unfitted-level-2);\n",
              "}\n",
              "\n",
              "#sk-container-id-4 div.sk-estimator.fitted:hover {\n",
              "  /* fitted */\n",
              "  background-color: var(--sklearn-color-fitted-level-2);\n",
              "}\n",
              "\n",
              "/* Specification for estimator info (e.g. \"i\" and \"?\") */\n",
              "\n",
              "/* Common style for \"i\" and \"?\" */\n",
              "\n",
              ".sk-estimator-doc-link,\n",
              "a:link.sk-estimator-doc-link,\n",
              "a:visited.sk-estimator-doc-link {\n",
              "  float: right;\n",
              "  font-size: smaller;\n",
              "  line-height: 1em;\n",
              "  font-family: monospace;\n",
              "  background-color: var(--sklearn-color-background);\n",
              "  border-radius: 1em;\n",
              "  height: 1em;\n",
              "  width: 1em;\n",
              "  text-decoration: none !important;\n",
              "  margin-left: 0.5em;\n",
              "  text-align: center;\n",
              "  /* unfitted */\n",
              "  border: var(--sklearn-color-unfitted-level-1) 1pt solid;\n",
              "  color: var(--sklearn-color-unfitted-level-1);\n",
              "}\n",
              "\n",
              ".sk-estimator-doc-link.fitted,\n",
              "a:link.sk-estimator-doc-link.fitted,\n",
              "a:visited.sk-estimator-doc-link.fitted {\n",
              "  /* fitted */\n",
              "  border: var(--sklearn-color-fitted-level-1) 1pt solid;\n",
              "  color: var(--sklearn-color-fitted-level-1);\n",
              "}\n",
              "\n",
              "/* On hover */\n",
              "div.sk-estimator:hover .sk-estimator-doc-link:hover,\n",
              ".sk-estimator-doc-link:hover,\n",
              "div.sk-label-container:hover .sk-estimator-doc-link:hover,\n",
              ".sk-estimator-doc-link:hover {\n",
              "  /* unfitted */\n",
              "  background-color: var(--sklearn-color-unfitted-level-3);\n",
              "  color: var(--sklearn-color-background);\n",
              "  text-decoration: none;\n",
              "}\n",
              "\n",
              "div.sk-estimator.fitted:hover .sk-estimator-doc-link.fitted:hover,\n",
              ".sk-estimator-doc-link.fitted:hover,\n",
              "div.sk-label-container:hover .sk-estimator-doc-link.fitted:hover,\n",
              ".sk-estimator-doc-link.fitted:hover {\n",
              "  /* fitted */\n",
              "  background-color: var(--sklearn-color-fitted-level-3);\n",
              "  color: var(--sklearn-color-background);\n",
              "  text-decoration: none;\n",
              "}\n",
              "\n",
              "/* Span, style for the box shown on hovering the info icon */\n",
              ".sk-estimator-doc-link span {\n",
              "  display: none;\n",
              "  z-index: 9999;\n",
              "  position: relative;\n",
              "  font-weight: normal;\n",
              "  right: .2ex;\n",
              "  padding: .5ex;\n",
              "  margin: .5ex;\n",
              "  width: min-content;\n",
              "  min-width: 20ex;\n",
              "  max-width: 50ex;\n",
              "  color: var(--sklearn-color-text);\n",
              "  box-shadow: 2pt 2pt 4pt #999;\n",
              "  /* unfitted */\n",
              "  background: var(--sklearn-color-unfitted-level-0);\n",
              "  border: .5pt solid var(--sklearn-color-unfitted-level-3);\n",
              "}\n",
              "\n",
              ".sk-estimator-doc-link.fitted span {\n",
              "  /* fitted */\n",
              "  background: var(--sklearn-color-fitted-level-0);\n",
              "  border: var(--sklearn-color-fitted-level-3);\n",
              "}\n",
              "\n",
              ".sk-estimator-doc-link:hover span {\n",
              "  display: block;\n",
              "}\n",
              "\n",
              "/* \"?\"-specific style due to the `<a>` HTML tag */\n",
              "\n",
              "#sk-container-id-4 a.estimator_doc_link {\n",
              "  float: right;\n",
              "  font-size: 1rem;\n",
              "  line-height: 1em;\n",
              "  font-family: monospace;\n",
              "  background-color: var(--sklearn-color-background);\n",
              "  border-radius: 1rem;\n",
              "  height: 1rem;\n",
              "  width: 1rem;\n",
              "  text-decoration: none;\n",
              "  /* unfitted */\n",
              "  color: var(--sklearn-color-unfitted-level-1);\n",
              "  border: var(--sklearn-color-unfitted-level-1) 1pt solid;\n",
              "}\n",
              "\n",
              "#sk-container-id-4 a.estimator_doc_link.fitted {\n",
              "  /* fitted */\n",
              "  border: var(--sklearn-color-fitted-level-1) 1pt solid;\n",
              "  color: var(--sklearn-color-fitted-level-1);\n",
              "}\n",
              "\n",
              "/* On hover */\n",
              "#sk-container-id-4 a.estimator_doc_link:hover {\n",
              "  /* unfitted */\n",
              "  background-color: var(--sklearn-color-unfitted-level-3);\n",
              "  color: var(--sklearn-color-background);\n",
              "  text-decoration: none;\n",
              "}\n",
              "\n",
              "#sk-container-id-4 a.estimator_doc_link.fitted:hover {\n",
              "  /* fitted */\n",
              "  background-color: var(--sklearn-color-fitted-level-3);\n",
              "}\n",
              "</style><div id=\"sk-container-id-4\" class=\"sk-top-container\"><div class=\"sk-text-repr-fallback\"><pre>RandomForestClassifier(random_state=42)</pre><b>In a Jupyter environment, please rerun this cell to show the HTML representation or trust the notebook. <br />On GitHub, the HTML representation is unable to render, please try loading this page with nbviewer.org.</b></div><div class=\"sk-container\" hidden><div class=\"sk-item\"><div class=\"sk-estimator fitted sk-toggleable\"><input class=\"sk-toggleable__control sk-hidden--visually\" id=\"sk-estimator-id-4\" type=\"checkbox\" checked><label for=\"sk-estimator-id-4\" class=\"sk-toggleable__label fitted sk-toggleable__label-arrow\"><div><div>RandomForestClassifier</div></div><div><a class=\"sk-estimator-doc-link fitted\" rel=\"noreferrer\" target=\"_blank\" href=\"https://scikit-learn.org/1.6/modules/generated/sklearn.ensemble.RandomForestClassifier.html\">?<span>Documentation for RandomForestClassifier</span></a><span class=\"sk-estimator-doc-link fitted\">i<span>Fitted</span></span></div></label><div class=\"sk-toggleable__content fitted\"><pre>RandomForestClassifier(random_state=42)</pre></div> </div></div></div></div>"
            ]
          },
          "metadata": {},
          "execution_count": 71
        }
      ]
    },
    {
      "cell_type": "markdown",
      "source": [
        "# **Step 10: Evaluate the Model on the Test Set**"
      ],
      "metadata": {
        "id": "PgaybBzT5o_x"
      }
    },
    {
      "cell_type": "code",
      "source": [
        "# =========================================\n",
        "# 10. Evaluate the Model on the Test Set\n",
        "# =========================================\n",
        "y_pred = model.predict(X_test)\n",
        "accuracy = accuracy_score(y_test, y_pred)\n",
        "\n",
        "print(\"\\nModel Accuracy on Test Set: {:.2f}%\".format(accuracy * 100))\n",
        "print(\"\\nClassification Report:\")\n",
        "print(classification_report(y_test, y_pred))\n",
        "\n",
        "# -----------------------------------------\n",
        "# 10A. Confusion Matrix\n",
        "# -----------------------------------------\n",
        "cm = confusion_matrix(y_test, y_pred)\n",
        "plt.figure(figsize=(6, 5))\n",
        "plt.imshow(cm, interpolation='nearest', cmap=plt.cm.Blues)\n",
        "plt.title(\"Confusion Matrix\")\n",
        "plt.colorbar()\n",
        "\n",
        "# If you want readable labels on axes, decode the numeric labels from the \"Level\" encoder:\n",
        "level_classes = encoders[\"Level\"].classes_  # e.g. ['High', 'Low', 'Moderate', 'Very High', 'Very Low']\n",
        "tick_marks = np.arange(len(level_classes))\n",
        "plt.xticks(tick_marks, level_classes, rotation=45)\n",
        "plt.yticks(tick_marks, level_classes)\n",
        "plt.xlabel(\"Predicted Label\")\n",
        "plt.ylabel(\"True Label\")\n",
        "\n",
        "# Annotate counts\n",
        "thresh = cm.max() / 2.\n",
        "for i in range(cm.shape[0]):\n",
        "    for j in range(cm.shape[1]):\n",
        "        plt.text(j, i, format(cm[i, j], 'd'),\n",
        "                 ha=\"center\", va=\"center\",\n",
        "                 color=\"white\" if cm[i, j] > thresh else \"black\")\n",
        "\n",
        "plt.tight_layout()\n",
        "plt.show()\n",
        "\n",
        "# -----------------------------------------\n",
        "# 10B. Feature Importances\n",
        "# -----------------------------------------\n",
        "importances = model.feature_importances_\n",
        "indices = np.argsort(importances)[::-1]\n",
        "\n",
        "plt.figure(figsize=(10, 6))\n",
        "plt.title(\"Feature Importances\")\n",
        "plt.bar(range(len(feature_cols)), importances[indices], align=\"center\")\n",
        "plt.xticks(range(len(feature_cols)), [feature_cols[i] for i in indices], rotation=45)\n",
        "plt.tight_layout()\n",
        "plt.show()"
      ],
      "metadata": {
        "colab": {
          "base_uri": "https://localhost:8080/",
          "height": 1000
        },
        "id": "ymeht0et5rkA",
        "outputId": "bcc239ae-631e-49a6-c69f-dae1df4d16cd"
      },
      "execution_count": 73,
      "outputs": [
        {
          "output_type": "stream",
          "name": "stdout",
          "text": [
            "\n",
            "Model Accuracy on Test Set: 96.25%\n",
            "\n",
            "Classification Report:\n",
            "              precision    recall  f1-score   support\n",
            "\n",
            "           0       0.92      1.00      0.96        12\n",
            "           1       0.94      0.92      0.93        37\n",
            "           2       0.94      0.97      0.95        30\n",
            "           3       0.93      1.00      0.97        14\n",
            "           4       1.00      0.97      0.98        67\n",
            "\n",
            "    accuracy                           0.96       160\n",
            "   macro avg       0.95      0.97      0.96       160\n",
            "weighted avg       0.96      0.96      0.96       160\n",
            "\n"
          ]
        },
        {
          "output_type": "display_data",
          "data": {
            "text/plain": [
              "<Figure size 600x500 with 2 Axes>"
            ],
            "image/png": "[encoded data removed]"
          },
          "metadata": {}
        },
        {
          "output_type": "display_data",
          "data": {
            "text/plain": [
              "<Figure size 1000x600 with 1 Axes>"
            ],
            "image/png": "[encoded data removed]"
          },
          "metadata": {}
        }
      ]
    },
    {
      "cell_type": "markdown",
      "source": [
        "# **Step 11: Predict on a Sample Row in String Format**"
      ],
      "metadata": {
        "id": "HqTzeptgFnit"
      }
    },
    {
      "cell_type": "code",
      "source": [
        "# =========================================\n",
        "# 11. Predict on a Sample Row in String Format\n",
        "# =========================================\n",
        "# Suppose we have a new data point (excluding 'Level' since that's what we predict).\n",
        "# We'll create it with the original string categories for \"Gender\" and \"Current Mood\".\n",
        "sample_row = pd.DataFrame({\n",
        "    \"Age\": [10],\n",
        "    \"Gender\": [\"Female\"],            # original string\n",
        "    \"Current Mood\": [\"Happy\"],       # original string\n",
        "    \"Parent Satisfaction\": [4],      # numeric\n",
        "    \"Engagement Level\": [5],         # numeric\n",
        "    \"Completed Tasks\": [9],\n",
        "    \"Time Spent\": [94.1],\n",
        "    \"Correct in First Attempt\": [6]\n",
        "})\n",
        "\n",
        "print(\"\\nSample row in original string format:\")\n",
        "print(sample_row)\n",
        "\n",
        "# -----------------------------------------\n",
        "# 11A. Encode the Sample Row\n",
        "# -----------------------------------------\n",
        "# We must transform each categorical column with the SAME encoders used during training.\n",
        "encoded_sample = sample_row.copy()\n",
        "\n",
        "for col in [\"Gender\", \"Current Mood\"]:\n",
        "    encoded_sample[col] = encoders[col].transform(encoded_sample[col].astype(str))\n",
        "\n",
        "print(\"\\nEncoded sample row (numeric form):\")\n",
        "print(encoded_sample)\n",
        "\n",
        "# -----------------------------------------\n",
        "# 11B. Predict with the Trained Model\n",
        "# -----------------------------------------\n",
        "sample_prediction_numeric = model.predict(encoded_sample)[0]\n",
        "print(\"\\nRaw numeric prediction for 'Level':\", sample_prediction_numeric)\n",
        "\n",
        "# -----------------------------------------\n",
        "# 11C. Decode the Predicted 'Level' Back to String\n",
        "# -----------------------------------------\n",
        "decoded_prediction = encoders[\"Level\"].inverse_transform([sample_prediction_numeric])[0]\n",
        "print(\"Decoded string prediction for 'Level':\", decoded_prediction)\n",
        "\n",
        "# -----------------------------------------\n",
        "# 11D. Display Final Result\n",
        "# -----------------------------------------\n",
        "sample_row[\"Predicted Level\"] = decoded_prediction\n",
        "print(\"\\nFinal sample row with predicted 'Level':\")\n",
        "print(sample_row)\n"
      ],
      "metadata": {
        "colab": {
          "base_uri": "https://localhost:8080/"
        },
        "id": "kDtfANiFE-Ln",
        "outputId": "af181950-97e1-40ec-8aed-bbaef7ef5251"
      },
      "execution_count": 74,
      "outputs": [
        {
          "output_type": "stream",
          "name": "stdout",
          "text": [
            "\n",
            "Sample row in original string format:\n",
            "   Age  Gender Current Mood  Parent Satisfaction  Engagement Level  \\\n",
            "0   10  Female        Happy                    4                 5   \n",
            "\n",
            "   Completed Tasks  Time Spent  Correct in First Attempt  \n",
            "0                9        94.1                         6  \n",
            "\n",
            "Encoded sample row (numeric form):\n",
            "   Age  Gender  Current Mood  Parent Satisfaction  Engagement Level  \\\n",
            "0   10       0             2                    4                 5   \n",
            "\n",
            "   Completed Tasks  Time Spent  Correct in First Attempt  \n",
            "0                9        94.1                         6  \n",
            "\n",
            "Raw numeric prediction for 'Level': 3\n",
            "Decoded string prediction for 'Level': Very High\n",
            "\n",
            "Final sample row with predicted 'Level':\n",
            "   Age  Gender Current Mood  Parent Satisfaction  Engagement Level  \\\n",
            "0   10  Female        Happy                    4                 5   \n",
            "\n",
            "   Completed Tasks  Time Spent  Correct in First Attempt Predicted Level  \n",
            "0                9        94.1                         6       Very High  \n"
          ]
        }
      ]
    },
    {
      "cell_type": "markdown",
      "source": [
        "# **Step 12: Save and Download the Trained Model**"
      ],
      "metadata": {
        "id": "IlF3Hsd4F3aq"
      }
    },
    {
      "cell_type": "code",
      "source": [
        "# -----------------------------------------\n",
        "# 12. Save and Download the Trained Model\n",
        "# -----------------------------------------\n",
        "import joblib\n",
        "from google.colab import files\n",
        "\n",
        "# Save the trained model to a file named 'autism_behavior_model.pkl'\n",
        "joblib.dump(model, 'autism_behavior_model.pkl')\n",
        "print(\"Model saved to autism_behavior_model.pkl\")\n",
        "\n",
        "# Download the model file\n",
        "files.download('autism_behavior_model.pkl')\n"
      ],
      "metadata": {
        "colab": {
          "base_uri": "https://localhost:8080/",
          "height": 35
        },
        "id": "R2naYW92F6t3",
        "outputId": "93a2d240-2692-42ce-f0f0-d7bad21cb93e"
      },
      "execution_count": 75,
      "outputs": [
        {
          "output_type": "stream",
          "name": "stdout",
          "text": [
            "Model saved to autism_behavior_model.pkl\n"
          ]
        },
        {
          "output_type": "display_data",
          "data": {
            "text/plain": [
              "<IPython.core.display.Javascript object>"
            ],
            "application/javascript": [
              "\n",
              "    async function download(id, filename, size) {\n",
              "      if (!google.colab.kernel.accessAllowed) {\n",
              "        return;\n",
              "      }\n",
              "      const div = document.createElement('div');\n",
              "      const label = document.createElement('label');\n",
              "      label.textContent = `Downloading \"${filename}\": `;\n",
              "      div.appendChild(label);\n",
              "      const progress = document.createElement('progress');\n",
              "      progress.max = size;\n",
              "      div.appendChild(progress);\n",
              "      document.body.appendChild(div);\n",
              "\n",
              "      const buffers = [];\n",
              "      let downloaded = 0;\n",
              "\n",
              "      const channel = await google.colab.kernel.comms.open(id);\n",
              "      // Send a message to notify the kernel that we're ready.\n",
              "      channel.send({})\n",
              "\n",
              "      for await (const message of channel.messages) {\n",
              "        // Send a message to notify the kernel that we're ready.\n",
              "        channel.send({})\n",
              "        if (message.buffers) {\n",
              "          for (const buffer of message.buffers) {\n",
              "            buffers.push(buffer);\n",
              "            downloaded += buffer.byteLength;\n",
              "            progress.value = downloaded;\n",
              "          }\n",
              "        }\n",
              "      }\n",
              "      const blob = new Blob(buffers, {type: 'application/binary'});\n",
              "      const a = document.createElement('a');\n",
              "      a.href = window.URL.createObjectURL(blob);\n",
              "      a.download = filename;\n",
              "      div.appendChild(a);\n",
              "      a.click();\n",
              "      div.remove();\n",
              "    }\n",
              "  "
            ]
          },
          "metadata": {}
        },
        {
          "output_type": "display_data",
          "data": {
            "text/plain": [
              "<IPython.core.display.Javascript object>"
            ],
            "application/javascript": [
              "download(\"download_04d13eda-e005-4a7e-83ac-42ab0aec1f86\", \"autism_behavior_model.pkl\", 1789441)"
            ]
          },
          "metadata": {}
        }
      ]
    }
  ]
}