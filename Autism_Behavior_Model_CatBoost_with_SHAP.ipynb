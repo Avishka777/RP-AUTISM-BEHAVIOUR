{
  "nbformat": 4,
  "nbformat_minor": 0,
  "metadata": {
    "colab": {
      "provenance": []
    },
    "kernelspec": {
      "name": "python3",
      "display_name": "Python 3"
    },
    "language_info": {
      "name": "python"
    },
    "widgets": {
      "application/vnd.jupyter.widget-state+json": {
        "834095aad4c64fbfa681bfd3cb6dc35c": {
          "model_module": "catboost-widget",
          "model_name": "CatboostWidgetModel",
          "model_module_version": "^1.0.0",
          "state": {
            "_dom_classes": [],
            "_model_module": "catboost-widget",
            "_model_module_version": "^1.0.0",
            "_model_name": "CatboostWidgetModel",
            "_view_count": null,
            "_view_module": "catboost-widget",
            "_view_module_version": "^1.0.0",
            "_view_name": "CatboostWidgetView",
            "data": {
              "catboost_info": {
                "path": "catboost_info",
                "name": "catboost_info",
                "content": {
                  "passed_iterations": 99,
                  "total_iterations": 100,
                  "data": {
                    "iterations": [
                      {
                        "learn": [
                          0.7515625,
                          1.451620282
                        ],
                        "iteration": 0,
                        "passed_time": 0.06410112793,
                        "remaining_time": 6.346011665,
                        "test": [
                          0.6375,
                          1.472058709
                        ]
                      },
                      {
                        "learn": [
                          0.7828125,
                          1.324888195
                        ],
                        "iteration": 1,
                        "passed_time": 0.06807608006,
                        "remaining_time": 3.335727923,
                        "test": [
                          0.625,
                          1.371006524
                        ]
                      },
                      {
                        "learn": [
                          0.8,
                          1.229172588
                        ],
                        "iteration": 2,
                        "passed_time": 0.0816965517,
                        "remaining_time": 2.641521838,
                        "test": [
                          0.6,
                          1.288137919
                        ]
                      },
                      {
                        "learn": [
                          0.803125,
                          1.140402681
                        ],
                        "iteration": 3,
                        "passed_time": 0.1021668088,
                        "remaining_time": 2.452003411,
                        "test": [
                          0.64375,
                          1.211774133
                        ]
                      },
                      {
                        "learn": [
                          0.903125,
                          1.02712084
                        ],
                        "iteration": 4,
                        "passed_time": 0.1111627916,
                        "remaining_time": 2.11209304,
                        "test": [
                          0.8125,
                          1.090388167
                        ]
                      },
                      {
                        "learn": [
                          0.921875,
                          0.9465856932
                        ],
                        "iteration": 5,
                        "passed_time": 0.1266831962,
                        "remaining_time": 1.984703407,
                        "test": [
                          0.85,
                          1.007808459
                        ]
                      },
                      {
                        "learn": [
                          0.9265625,
                          0.8777761406
                        ],
                        "iteration": 6,
                        "passed_time": 0.1604038021,
                        "remaining_time": 2.131079085,
                        "test": [
                          0.875,
                          0.9331859576
                        ]
                      },
                      {
                        "learn": [
                          0.9359375,
                          0.8194806544
                        ],
                        "iteration": 7,
                        "passed_time": 0.1715115234,
                        "remaining_time": 1.972382519,
                        "test": [
                          0.89375,
                          0.8730484253
                        ]
                      },
                      {
                        "learn": [
                          0.940625,
                          0.76617078
                        ],
                        "iteration": 8,
                        "passed_time": 0.179568345,
                        "remaining_time": 1.815635489,
                        "test": [
                          0.89375,
                          0.8179856043
                        ]
                      },
                      {
                        "learn": [
                          0.9375,
                          0.7183877476
                        ],
                        "iteration": 9,
                        "passed_time": 0.197144059,
                        "remaining_time": 1.774296531,
                        "test": [
                          0.90625,
                          0.7682989031
                        ]
                      },
                      {
                        "learn": [
                          0.946875,
                          0.6689500518
                        ],
                        "iteration": 10,
                        "passed_time": 0.2046437714,
                        "remaining_time": 1.65575415,
                        "test": [
                          0.9125,
                          0.7176123172
                        ]
                      },
                      {
                        "learn": [
                          0.946875,
                          0.63273253
                        ],
                        "iteration": 11,
                        "passed_time": 0.212043876,
                        "remaining_time": 1.554988424,
                        "test": [
                          0.9125,
                          0.6792777525
                        ]
                      },
                      {
                        "learn": [
                          0.94375,
                          0.5997538061
                        ],
                        "iteration": 12,
                        "passed_time": 0.2207319348,
                        "remaining_time": 1.477206025,
                        "test": [
                          0.9125,
                          0.64774376
                        ]
                      },
                      {
                        "learn": [
                          0.9515625,
                          0.5643740143
                        ],
                        "iteration": 13,
                        "passed_time": 0.2393439381,
                        "remaining_time": 1.47025562,
                        "test": [
                          0.925,
                          0.613122699
                        ]
                      },
                      {
                        "learn": [
                          0.9546875,
                          0.5328845464
                        ],
                        "iteration": 14,
                        "passed_time": 0.2538037733,
                        "remaining_time": 1.438221382,
                        "test": [
                          0.91875,
                          0.5791351671
                        ]
                      },
                      {
                        "learn": [
                          0.9546875,
                          0.5100931802
                        ],
                        "iteration": 15,
                        "passed_time": 0.2674841638,
                        "remaining_time": 1.40429186,
                        "test": [
                          0.925,
                          0.5569220805
                        ]
                      },
                      {
                        "learn": [
                          0.95625,
                          0.4804205528
                        ],
                        "iteration": 16,
                        "passed_time": 0.2848465918,
                        "remaining_time": 1.390721595,
                        "test": [
                          0.91875,
                          0.5297193893
                        ]
                      },
                      {
                        "learn": [
                          0.95625,
                          0.4597014045
                        ],
                        "iteration": 17,
                        "passed_time": 0.296162299,
                        "remaining_time": 1.349183807,
                        "test": [
                          0.91875,
                          0.5113764098
                        ]
                      },
                      {
                        "learn": [
                          0.959375,
                          0.4352383606
                        ],
                        "iteration": 18,
                        "passed_time": 0.3059349067,
                        "remaining_time": 1.304248813,
                        "test": [
                          0.91875,
                          0.4900171894
                        ]
                      },
                      {
                        "learn": [
                          0.9578125,
                          0.4170469919
                        ],
                        "iteration": 19,
                        "passed_time": 0.3139405689,
                        "remaining_time": 1.255762276,
                        "test": [
                          0.9125,
                          0.4711801021
                        ]
                      },
                      {
                        "learn": [
                          0.9609375,
                          0.3978209705
                        ],
                        "iteration": 20,
                        "passed_time": 0.3272896464,
                        "remaining_time": 1.231232479,
                        "test": [
                          0.91875,
                          0.4531956098
                        ]
                      },
                      {
                        "learn": [
                          0.9609375,
                          0.378951585
                        ],
                        "iteration": 21,
                        "passed_time": 0.3418903691,
                        "remaining_time": 1.212156763,
                        "test": [
                          0.91875,
                          0.4343889396
                        ]
                      },
                      {
                        "learn": [
                          0.9625,
                          0.3617938871
                        ],
                        "iteration": 22,
                        "passed_time": 0.3522908445,
                        "remaining_time": 1.179408479,
                        "test": [
                          0.925,
                          0.4166608272
                        ]
                      },
                      {
                        "learn": [
                          0.9625,
                          0.3465373441
                        ],
                        "iteration": 23,
                        "passed_time": 0.3706382132,
                        "remaining_time": 1.173687675,
                        "test": [
                          0.925,
                          0.4032663388
                        ]
                      },
                      {
                        "learn": [
                          0.965625,
                          0.3348047548
                        ],
                        "iteration": 24,
                        "passed_time": 0.3837301452,
                        "remaining_time": 1.151190436,
                        "test": [
                          0.925,
                          0.3922624747
                        ]
                      },
                      {
                        "learn": [
                          0.9640625,
                          0.3226502314
                        ],
                        "iteration": 25,
                        "passed_time": 0.3915202318,
                        "remaining_time": 1.114326814,
                        "test": [
                          0.925,
                          0.3806315309
                        ]
                      },
                      {
                        "learn": [
                          0.96875,
                          0.3130280402
                        ],
                        "iteration": 26,
                        "passed_time": 0.4060441461,
                        "remaining_time": 1.097823062,
                        "test": [
                          0.925,
                          0.3723349278
                        ]
                      },
                      {
                        "learn": [
                          0.96875,
                          0.3035454271
                        ],
                        "iteration": 27,
                        "passed_time": 0.4313349682,
                        "remaining_time": 1.109147061,
                        "test": [
                          0.93125,
                          0.361741541
                        ]
                      },
                      {
                        "learn": [
                          0.9671875,
                          0.2934002286
                        ],
                        "iteration": 28,
                        "passed_time": 0.4357113318,
                        "remaining_time": 1.066741536,
                        "test": [
                          0.925,
                          0.353651431
                        ]
                      },
                      {
                        "learn": [
                          0.9703125,
                          0.2820909951
                        ],
                        "iteration": 29,
                        "passed_time": 0.4425897962,
                        "remaining_time": 1.032709525,
                        "test": [
                          0.93125,
                          0.3421084172
                        ]
                      },
                      {
                        "learn": [
                          0.971875,
                          0.275467023
                        ],
                        "iteration": 30,
                        "passed_time": 0.4490612786,
                        "remaining_time": 0.9995234912,
                        "test": [
                          0.925,
                          0.3375361375
                        ]
                      },
                      {
                        "learn": [
                          0.971875,
                          0.2672606513
                        ],
                        "iteration": 31,
                        "passed_time": 0.4554522427,
                        "remaining_time": 0.9678360157,
                        "test": [
                          0.925,
                          0.3291501055
                        ]
                      },
                      {
                        "learn": [
                          0.9734375,
                          0.2615806295
                        ],
                        "iteration": 32,
                        "passed_time": 0.4642742889,
                        "remaining_time": 0.9426174957,
                        "test": [
                          0.925,
                          0.3258528877
                        ]
                      },
                      {
                        "learn": [
                          0.971875,
                          0.2553787129
                        ],
                        "iteration": 33,
                        "passed_time": 0.4722294624,
                        "remaining_time": 0.9166807212,
                        "test": [
                          0.91875,
                          0.321377721
                        ]
                      },
                      {
                        "learn": [
                          0.9734375,
                          0.2471207815
                        ],
                        "iteration": 34,
                        "passed_time": 0.4817112554,
                        "remaining_time": 0.8946066173,
                        "test": [
                          0.9125,
                          0.3146400768
                        ]
                      },
                      {
                        "learn": [
                          0.9734375,
                          0.2422475708
                        ],
                        "iteration": 35,
                        "passed_time": 0.4898062163,
                        "remaining_time": 0.8707666068,
                        "test": [
                          0.9125,
                          0.3104813761
                        ]
                      },
                      {
                        "learn": [
                          0.9734375,
                          0.2365154107
                        ],
                        "iteration": 36,
                        "passed_time": 0.5004190875,
                        "remaining_time": 0.8520649328,
                        "test": [
                          0.9125,
                          0.3046773158
                        ]
                      },
                      {
                        "learn": [
                          0.9734375,
                          0.2307744688
                        ],
                        "iteration": 37,
                        "passed_time": 0.5135233798,
                        "remaining_time": 0.8378539354,
                        "test": [
                          0.91875,
                          0.2987976373
                        ]
                      },
                      {
                        "learn": [
                          0.9734375,
                          0.2242088754
                        ],
                        "iteration": 38,
                        "passed_time": 0.5204849225,
                        "remaining_time": 0.8140918019,
                        "test": [
                          0.91875,
                          0.2925566025
                        ]
                      },
                      {
                        "learn": [
                          0.975,
                          0.2184968357
                        ],
                        "iteration": 39,
                        "passed_time": 0.5298362084,
                        "remaining_time": 0.7947543126,
                        "test": [
                          0.91875,
                          0.2874990294
                        ]
                      },
                      {
                        "learn": [
                          0.975,
                          0.2130750114
                        ],
                        "iteration": 40,
                        "passed_time": 0.5377214531,
                        "remaining_time": 0.7737942861,
                        "test": [
                          0.925,
                          0.2825271537
                        ]
                      },
                      {
                        "learn": [
                          0.975,
                          0.2082412023
                        ],
                        "iteration": 41,
                        "passed_time": 0.5450996377,
                        "remaining_time": 0.7527566425,
                        "test": [
                          0.9125,
                          0.2778936042
                        ]
                      },
                      {
                        "learn": [
                          0.975,
                          0.2029733149
                        ],
                        "iteration": 42,
                        "passed_time": 0.5527123478,
                        "remaining_time": 0.7326652053,
                        "test": [
                          0.9125,
                          0.2725768406
                        ]
                      },
                      {
                        "learn": [
                          0.9765625,
                          0.199914048
                        ],
                        "iteration": 43,
                        "passed_time": 0.5691990232,
                        "remaining_time": 0.7244351205,
                        "test": [
                          0.91875,
                          0.2691674735
                        ]
                      },
                      {
                        "learn": [
                          0.9765625,
                          0.1963736858
                        ],
                        "iteration": 44,
                        "passed_time": 0.5731257261,
                        "remaining_time": 0.7004869986,
                        "test": [
                          0.9125,
                          0.2672560637
                        ]
                      },
                      {
                        "learn": [
                          0.978125,
                          0.1914921507
                        ],
                        "iteration": 45,
                        "passed_time": 0.5776451171,
                        "remaining_time": 0.6781051374,
                        "test": [
                          0.91875,
                          0.2634557388
                        ]
                      },
                      {
                        "learn": [
                          0.9765625,
                          0.187618167
                        ],
                        "iteration": 46,
                        "passed_time": 0.580662048,
                        "remaining_time": 0.6547891179,
                        "test": [
                          0.91875,
                          0.2603811367
                        ]
                      },
                      {
                        "learn": [
                          0.9765625,
                          0.1829487368
                        ],
                        "iteration": 47,
                        "passed_time": 0.5836179197,
                        "remaining_time": 0.6322527463,
                        "test": [
                          0.91875,
                          0.257189419
                        ]
                      },
                      {
                        "learn": [
                          0.978125,
                          0.1781153707
                        ],
                        "iteration": 48,
                        "passed_time": 0.5904919945,
                        "remaining_time": 0.6145937085,
                        "test": [
                          0.9125,
                          0.2520548936
                        ]
                      },
                      {
                        "learn": [
                          0.98125,
                          0.1746435794
                        ],
                        "iteration": 49,
                        "passed_time": 0.6043411219,
                        "remaining_time": 0.6043411219,
                        "test": [
                          0.9125,
                          0.2487234735
                        ]
                      },
                      {
                        "learn": [
                          0.98125,
                          0.1712206151
                        ],
                        "iteration": 50,
                        "passed_time": 0.649993293,
                        "remaining_time": 0.62450336,
                        "test": [
                          0.9125,
                          0.244841692
                        ]
                      },
                      {
                        "learn": [
                          0.9796875,
                          0.1684448922
                        ],
                        "iteration": 51,
                        "passed_time": 0.666291922,
                        "remaining_time": 0.6150386972,
                        "test": [
                          0.9125,
                          0.2429010023
                        ]
                      },
                      {
                        "learn": [
                          0.98125,
                          0.1652287429
                        ],
                        "iteration": 52,
                        "passed_time": 0.679914694,
                        "remaining_time": 0.6029432192,
                        "test": [
                          0.9125,
                          0.2395668787
                        ]
                      },
                      {
                        "learn": [
                          0.9828125,
                          0.1622410512
                        ],
                        "iteration": 53,
                        "passed_time": 0.6899647063,
                        "remaining_time": 0.5877477128,
                        "test": [
                          0.9125,
                          0.2380711158
                        ]
                      },
                      {
                        "learn": [
                          0.984375,
                          0.1606938851
                        ],
                        "iteration": 54,
                        "passed_time": 0.7028286429,
                        "remaining_time": 0.5750416169,
                        "test": [
                          0.91875,
                          0.2370343137
                        ]
                      },
                      {
                        "learn": [
                          0.9859375,
                          0.1589325904
                        ],
                        "iteration": 55,
                        "passed_time": 0.7108641743,
                        "remaining_time": 0.558536137,
                        "test": [
                          0.91875,
                          0.2354515117
                        ]
                      },
                      {
                        "learn": [
                          0.9875,
                          0.1566434847
                        ],
                        "iteration": 56,
                        "passed_time": 0.7189232955,
                        "remaining_time": 0.542345644,
                        "test": [
                          0.91875,
                          0.2339534476
                        ]
                      },
                      {
                        "learn": [
                          0.9875,
                          0.1539662623
                        ],
                        "iteration": 57,
                        "passed_time": 0.7267339919,
                        "remaining_time": 0.5262556493,
                        "test": [
                          0.91875,
                          0.2322147251
                        ]
                      },
                      {
                        "learn": [
                          0.9875,
                          0.1513130159
                        ],
                        "iteration": 58,
                        "passed_time": 0.7491668904,
                        "remaining_time": 0.5206075001,
                        "test": [
                          0.91875,
                          0.2305506127
                        ]
                      },
                      {
                        "learn": [
                          0.9875,
                          0.1492285232
                        ],
                        "iteration": 59,
                        "passed_time": 0.7633337315,
                        "remaining_time": 0.5088891544,
                        "test": [
                          0.91875,
                          0.228898043
                        ]
                      },
                      {
                        "learn": [
                          0.9875,
                          0.1474230149
                        ],
                        "iteration": 60,
                        "passed_time": 0.776353045,
                        "remaining_time": 0.4963568649,
                        "test": [
                          0.9125,
                          0.2275171869
                        ]
                      },
                      {
                        "learn": [
                          0.9875,
                          0.1456047321
                        ],
                        "iteration": 61,
                        "passed_time": 0.7819166555,
                        "remaining_time": 0.4792392404,
                        "test": [
                          0.91875,
                          0.226253507
                        ]
                      },
                      {
                        "learn": [
                          0.9875,
                          0.1438320528
                        ],
                        "iteration": 62,
                        "passed_time": 0.7941433551,
                        "remaining_time": 0.466401653,
                        "test": [
                          0.91875,
                          0.2252564277
                        ]
                      },
                      {
                        "learn": [
                          0.9875,
                          0.1413396461
                        ],
                        "iteration": 63,
                        "passed_time": 0.8129546749,
                        "remaining_time": 0.4572870046,
                        "test": [
                          0.91875,
                          0.2231944299
                        ]
                      },
                      {
                        "learn": [
                          0.9875,
                          0.1390649574
                        ],
                        "iteration": 64,
                        "passed_time": 0.8266099663,
                        "remaining_time": 0.4450976741,
                        "test": [
                          0.9125,
                          0.2212981833
                        ]
                      },
                      {
                        "learn": [
                          0.9875,
                          0.1377570975
                        ],
                        "iteration": 65,
                        "passed_time": 0.8410080427,
                        "remaining_time": 0.4332465675,
                        "test": [
                          0.91875,
                          0.2209514249
                        ]
                      },
                      {
                        "learn": [
                          0.9890625,
                          0.1355296593
                        ],
                        "iteration": 66,
                        "passed_time": 0.8561660844,
                        "remaining_time": 0.421693743,
                        "test": [
                          0.9125,
                          0.2178709656
                        ]
                      },
                      {
                        "learn": [
                          0.9890625,
                          0.1334855307
                        ],
                        "iteration": 67,
                        "passed_time": 0.8735805913,
                        "remaining_time": 0.4110967489,
                        "test": [
                          0.9125,
                          0.216337891
                        ]
                      },
                      {
                        "learn": [
                          0.9890625,
                          0.1318598015
                        ],
                        "iteration": 68,
                        "passed_time": 0.8802139407,
                        "remaining_time": 0.3954584371,
                        "test": [
                          0.9125,
                          0.2151950966
                        ]
                      },
                      {
                        "learn": [
                          0.990625,
                          0.1304221037
                        ],
                        "iteration": 69,
                        "passed_time": 0.8855962445,
                        "remaining_time": 0.3795412477,
                        "test": [
                          0.9125,
                          0.2139812591
                        ]
                      },
                      {
                        "learn": [
                          0.9921875,
                          0.1286851343
                        ],
                        "iteration": 70,
                        "passed_time": 0.8944527501,
                        "remaining_time": 0.3653398557,
                        "test": [
                          0.9125,
                          0.2117825897
                        ]
                      },
                      {
                        "learn": [
                          0.9921875,
                          0.127163041
                        ],
                        "iteration": 71,
                        "passed_time": 0.9030625309,
                        "remaining_time": 0.3511909842,
                        "test": [
                          0.91875,
                          0.2111470084
                        ]
                      },
                      {
                        "learn": [
                          0.9921875,
                          0.124938793
                        ],
                        "iteration": 72,
                        "passed_time": 0.9177991806,
                        "remaining_time": 0.3394599709,
                        "test": [
                          0.91875,
                          0.2091741662
                        ]
                      },
                      {
                        "learn": [
                          0.99375,
                          0.122861401
                        ],
                        "iteration": 73,
                        "passed_time": 0.9271605764,
                        "remaining_time": 0.3257591215,
                        "test": [
                          0.9125,
                          0.2078406997
                        ]
                      },
                      {
                        "learn": [
                          0.99375,
                          0.1215890422
                        ],
                        "iteration": 74,
                        "passed_time": 0.9359058443,
                        "remaining_time": 0.3119686148,
                        "test": [
                          0.9125,
                          0.2069939909
                        ]
                      },
                      {
                        "learn": [
                          0.9921875,
                          0.1190333257
                        ],
                        "iteration": 75,
                        "passed_time": 0.9430193844,
                        "remaining_time": 0.2977955951,
                        "test": [
                          0.91875,
                          0.2043810556
                        ]
                      },
                      {
                        "learn": [
                          0.9921875,
                          0.11755424
                        ],
                        "iteration": 76,
                        "passed_time": 0.9483355301,
                        "remaining_time": 0.2832690544,
                        "test": [
                          0.9125,
                          0.2032202411
                        ]
                      },
                      {
                        "learn": [
                          0.9921875,
                          0.1151098676
                        ],
                        "iteration": 77,
                        "passed_time": 0.9541365557,
                        "remaining_time": 0.2691154388,
                        "test": [
                          0.91875,
                          0.2024301367
                        ]
                      },
                      {
                        "learn": [
                          0.990625,
                          0.1139125661
                        ],
                        "iteration": 78,
                        "passed_time": 0.9667832665,
                        "remaining_time": 0.2569930202,
                        "test": [
                          0.91875,
                          0.2017769779
                        ]
                      },
                      {
                        "learn": [
                          0.9921875,
                          0.1129358266
                        ],
                        "iteration": 79,
                        "passed_time": 0.9785292456,
                        "remaining_time": 0.2446323114,
                        "test": [
                          0.9125,
                          0.2006527713
                        ]
                      },
                      {
                        "learn": [
                          0.99375,
                          0.1113614354
                        ],
                        "iteration": 80,
                        "passed_time": 0.987145296,
                        "remaining_time": 0.2315526003,
                        "test": [
                          0.91875,
                          0.1999699415
                        ]
                      },
                      {
                        "learn": [
                          0.9921875,
                          0.1093819721
                        ],
                        "iteration": 81,
                        "passed_time": 1.007999485,
                        "remaining_time": 0.2212681797,
                        "test": [
                          0.9125,
                          0.1982368022
                        ]
                      },
                      {
                        "learn": [
                          0.990625,
                          0.1076045753
                        ],
                        "iteration": 82,
                        "passed_time": 1.019284293,
                        "remaining_time": 0.2087690721,
                        "test": [
                          0.9125,
                          0.1963827113
                        ]
                      },
                      {
                        "learn": [
                          0.990625,
                          0.1064814509
                        ],
                        "iteration": 83,
                        "passed_time": 1.025614639,
                        "remaining_time": 0.1953551692,
                        "test": [
                          0.9125,
                          0.1949002465
                        ]
                      },
                      {
                        "learn": [
                          0.9921875,
                          0.1045532152
                        ],
                        "iteration": 84,
                        "passed_time": 1.032262348,
                        "remaining_time": 0.1821639437,
                        "test": [
                          0.9125,
                          0.1936228954
                        ]
                      },
                      {
                        "learn": [
                          0.99375,
                          0.1033581421
                        ],
                        "iteration": 85,
                        "passed_time": 1.041617793,
                        "remaining_time": 0.1695656873,
                        "test": [
                          0.9125,
                          0.1930357712
                        ]
                      },
                      {
                        "learn": [
                          0.9921875,
                          0.1021851758
                        ],
                        "iteration": 86,
                        "passed_time": 1.047172474,
                        "remaining_time": 0.1564740478,
                        "test": [
                          0.9125,
                          0.1925951372
                        ]
                      },
                      {
                        "learn": [
                          0.99375,
                          0.1006684544
                        ],
                        "iteration": 87,
                        "passed_time": 1.054759504,
                        "remaining_time": 0.1438308415,
                        "test": [
                          0.9125,
                          0.1917893192
                        ]
                      },
                      {
                        "learn": [
                          0.99375,
                          0.09981184633
                        ],
                        "iteration": 88,
                        "passed_time": 1.058173887,
                        "remaining_time": 0.1307855366,
                        "test": [
                          0.9125,
                          0.1908847949
                        ]
                      },
                      {
                        "learn": [
                          0.99375,
                          0.09823444017
                        ],
                        "iteration": 89,
                        "passed_time": 1.061753706,
                        "remaining_time": 0.117972634,
                        "test": [
                          0.9125,
                          0.1890436415
                        ]
                      },
                      {
                        "learn": [
                          0.99375,
                          0.09695737071
                        ],
                        "iteration": 90,
                        "passed_time": 1.065004732,
                        "remaining_time": 0.1053301383,
                        "test": [
                          0.9125,
                          0.1889022886
                        ]
                      },
                      {
                        "learn": [
                          0.99375,
                          0.09574044523
                        ],
                        "iteration": 91,
                        "passed_time": 1.068339826,
                        "remaining_time": 0.09289911532,
                        "test": [
                          0.9125,
                          0.1879048
                        ]
                      },
                      {
                        "learn": [
                          0.99375,
                          0.09464810975
                        ],
                        "iteration": 92,
                        "passed_time": 1.071680871,
                        "remaining_time": 0.08066415155,
                        "test": [
                          0.9125,
                          0.187498933
                        ]
                      },
                      {
                        "learn": [
                          0.99375,
                          0.09356445831
                        ],
                        "iteration": 93,
                        "passed_time": 1.075141562,
                        "remaining_time": 0.06862605718,
                        "test": [
                          0.9125,
                          0.1862367365
                        ]
                      },
                      {
                        "learn": [
                          0.99375,
                          0.09286069509
                        ],
                        "iteration": 94,
                        "passed_time": 1.079095965,
                        "remaining_time": 0.05679452446,
                        "test": [
                          0.9125,
                          0.1854949355
                        ]
                      },
                      {
                        "learn": [
                          0.9953125,
                          0.09199597047
                        ],
                        "iteration": 95,
                        "passed_time": 1.083139905,
                        "remaining_time": 0.04513082937,
                        "test": [
                          0.9125,
                          0.1849495803
                        ]
                      },
                      {
                        "learn": [
                          0.9953125,
                          0.09122265861
                        ],
                        "iteration": 96,
                        "passed_time": 1.087870922,
                        "remaining_time": 0.03364549242,
                        "test": [
                          0.9125,
                          0.1842891083
                        ]
                      },
                      {
                        "learn": [
                          0.9953125,
                          0.09034863871
                        ],
                        "iteration": 97,
                        "passed_time": 1.096555471,
                        "remaining_time": 0.02237868308,
                        "test": [
                          0.9125,
                          0.1842058631
                        ]
                      },
                      {
                        "learn": [
                          0.9953125,
                          0.08908964711
                        ],
                        "iteration": 98,
                        "passed_time": 1.101943845,
                        "remaining_time": 0.01113074591,
                        "test": [
                          0.9125,
                          0.1836526071
                        ]
                      },
                      {
                        "learn": [
                          0.9953125,
                          0.08807715778
                        ],
                        "iteration": 99,
                        "passed_time": 1.119514419,
                        "remaining_time": 0,
                        "test": [
                          0.9125,
                          0.1830659935
                        ]
                      }
                    ],
                    "meta": {
                      "test_sets": [
                        "test"
                      ],
                      "test_metrics": [
                        {
                          "best_value": "Max",
                          "name": "Accuracy"
                        },
                        {
                          "best_value": "Min",
                          "name": "MultiClass"
                        }
                      ],
                      "learn_metrics": [
                        {
                          "best_value": "Max",
                          "name": "Accuracy"
                        },
                        {
                          "best_value": "Min",
                          "name": "MultiClass"
                        }
                      ],
                      "launch_mode": "Train",
                      "parameters": "",
                      "iteration_count": 100,
                      "learn_sets": [
                        "learn"
                      ],
                      "name": "experiment"
                    }
                  }
                }
              }
            },
            "layout": "IPY_MODEL_283d74fe8e30435cae41c9b4c7f57c42"
          }
        }
      }
    }
  },
  "cells": [
    {
      "cell_type": "markdown",
      "source": [
        "# Step 1: Import necessary libraries"
      ],
      "metadata": {
        "id": "Tdk__NPBYm9J"
      }
    },
    {
      "cell_type": "code",
      "execution_count": 2,
      "metadata": {
        "colab": {
          "base_uri": "https://localhost:8080/"
        },
        "id": "dK9pFYFaRbsd",
        "outputId": "40749b16-4e67-469b-8f6b-06e74a585539"
      },
      "outputs": [
        {
          "output_type": "stream",
          "name": "stdout",
          "text": [
            "Collecting catboost\n",
            "  Downloading catboost-1.2.8-cp311-cp311-manylinux2014_x86_64.whl.metadata (1.2 kB)\n",
            "Requirement already satisfied: shap in /usr/local/lib/python3.11/dist-packages (0.48.0)\n",
            "Requirement already satisfied: graphviz in /usr/local/lib/python3.11/dist-packages (from catboost) (0.21)\n",
            "Requirement already satisfied: matplotlib in /usr/local/lib/python3.11/dist-packages (from catboost) (3.10.0)\n",
            "Requirement already satisfied: numpy<3.0,>=1.16.0 in /usr/local/lib/python3.11/dist-packages (from catboost) (2.0.2)\n",
            "Requirement already satisfied: pandas>=0.24 in /usr/local/lib/python3.11/dist-packages (from catboost) (2.2.2)\n",
            "Requirement already satisfied: scipy in /usr/local/lib/python3.11/dist-packages (from catboost) (1.15.3)\n",
            "Requirement already satisfied: plotly in /usr/local/lib/python3.11/dist-packages (from catboost) (5.24.1)\n",
            "Requirement already satisfied: six in /usr/local/lib/python3.11/dist-packages (from catboost) (1.17.0)\n",
            "Requirement already satisfied: scikit-learn in /usr/local/lib/python3.11/dist-packages (from shap) (1.6.1)\n",
            "Requirement already satisfied: tqdm>=4.27.0 in /usr/local/lib/python3.11/dist-packages (from shap) (4.67.1)\n",
            "Requirement already satisfied: packaging>20.9 in /usr/local/lib/python3.11/dist-packages (from shap) (25.0)\n",
            "Requirement already satisfied: slicer==0.0.8 in /usr/local/lib/python3.11/dist-packages (from shap) (0.0.8)\n",
            "Requirement already satisfied: numba>=0.54 in /usr/local/lib/python3.11/dist-packages (from shap) (0.60.0)\n",
            "Requirement already satisfied: cloudpickle in /usr/local/lib/python3.11/dist-packages (from shap) (3.1.1)\n",
            "Requirement already satisfied: typing-extensions in /usr/local/lib/python3.11/dist-packages (from shap) (4.14.1)\n",
            "Requirement already satisfied: llvmlite<0.44,>=0.43.0dev0 in /usr/local/lib/python3.11/dist-packages (from numba>=0.54->shap) (0.43.0)\n",
            "Requirement already satisfied: python-dateutil>=2.8.2 in /usr/local/lib/python3.11/dist-packages (from pandas>=0.24->catboost) (2.9.0.post0)\n",
            "Requirement already satisfied: pytz>=2020.1 in /usr/local/lib/python3.11/dist-packages (from pandas>=0.24->catboost) (2025.2)\n",
            "Requirement already satisfied: tzdata>=2022.7 in /usr/local/lib/python3.11/dist-packages (from pandas>=0.24->catboost) (2025.2)\n",
            "Requirement already satisfied: contourpy>=1.0.1 in /usr/local/lib/python3.11/dist-packages (from matplotlib->catboost) (1.3.2)\n",
            "Requirement already satisfied: cycler>=0.10 in /usr/local/lib/python3.11/dist-packages (from matplotlib->catboost) (0.12.1)\n",
            "Requirement already satisfied: fonttools>=4.22.0 in /usr/local/lib/python3.11/dist-packages (from matplotlib->catboost) (4.58.5)\n",
            "Requirement already satisfied: kiwisolver>=1.3.1 in /usr/local/lib/python3.11/dist-packages (from matplotlib->catboost) (1.4.8)\n",
            "Requirement already satisfied: pillow>=8 in /usr/local/lib/python3.11/dist-packages (from matplotlib->catboost) (11.2.1)\n",
            "Requirement already satisfied: pyparsing>=2.3.1 in /usr/local/lib/python3.11/dist-packages (from matplotlib->catboost) (3.2.3)\n",
            "Requirement already satisfied: tenacity>=6.2.0 in /usr/local/lib/python3.11/dist-packages (from plotly->catboost) (8.5.0)\n",
            "Requirement already satisfied: joblib>=1.2.0 in /usr/local/lib/python3.11/dist-packages (from scikit-learn->shap) (1.5.1)\n",
            "Requirement already satisfied: threadpoolctl>=3.1.0 in /usr/local/lib/python3.11/dist-packages (from scikit-learn->shap) (3.6.0)\n",
            "Downloading catboost-1.2.8-cp311-cp311-manylinux2014_x86_64.whl (99.2 MB)\n",
            "\u001b[2K   \u001b[90m━━━━━━━━━━━━━━━━━━━━━━━━━━━━━━━━━━━━━━━━\u001b[0m \u001b[32m99.2/99.2 MB\u001b[0m \u001b[31m10.3 MB/s\u001b[0m eta \u001b[36m0:00:00\u001b[0m\n",
            "\u001b[?25hInstalling collected packages: catboost\n",
            "Successfully installed catboost-1.2.8\n"
          ]
        }
      ],
      "source": [
        "# Step 1: Import necessary libraries\n",
        "# -------------------------------\n",
        "# Install dependencies\n",
        "!pip install catboost shap\n",
        "\n",
        "import pandas as pd\n",
        "import numpy as np\n",
        "import matplotlib.pyplot as plt\n",
        "from sklearn.model_selection import train_test_split\n",
        "from sklearn.preprocessing import LabelEncoder\n",
        "from sklearn.metrics import accuracy_score, confusion_matrix, classification_report\n",
        "from catboost import CatBoostClassifier, Pool\n",
        "import shap\n",
        "%matplotlib inline"
      ]
    },
    {
      "cell_type": "markdown",
      "source": [
        "# Step 2: Load and Explore the Dataset"
      ],
      "metadata": {
        "id": "sSZWD7lTYr_x"
      }
    },
    {
      "cell_type": "code",
      "source": [
        "# Step 2: Load and Explore the Dataset\n",
        "# -------------------------------\n",
        "# Load the dataset\n",
        "data = pd.read_csv('Autism Behaviour Dataset.csv')\n",
        "\n",
        "# Display first rows and dataset info\n",
        "print(\"First 5 rows of the dataset:\")\n",
        "print(data.head())\n",
        "\n",
        "print(\"\\nDataset Info:\")\n",
        "print(data.info())"
      ],
      "metadata": {
        "colab": {
          "base_uri": "https://localhost:8080/"
        },
        "id": "hYm1U7YiR40I",
        "outputId": "8787636a-2153-4122-d546-16bbcda3202f"
      },
      "execution_count": 3,
      "outputs": [
        {
          "output_type": "stream",
          "name": "stdout",
          "text": [
            "First 5 rows of the dataset:\n",
            "   Child ID  Age  Gender Current Mood  Parent Satisfaction  Engagement Level  \\\n",
            "0        82    6  Female      Disgust                    2                21   \n",
            "1        60    7    Male   Frustrated                    2               143   \n",
            "2       298    8    Male      Neutral                    5               270   \n",
            "3        70    9    Male        Happy                    4               282   \n",
            "4       652    7  Female      Neutral                    5               295   \n",
            "\n",
            "   Completed Tasks  Time Spent  Correct in First Attempt      Level  \n",
            "0                8        73.6                         1   Very Low  \n",
            "1                2        43.3                         4   Very Low  \n",
            "2                5        55.9                         7       High  \n",
            "3                7        41.7                         6  Very High  \n",
            "4                9        66.6                         6       High  \n",
            "\n",
            "Dataset Info:\n",
            "<class 'pandas.core.frame.DataFrame'>\n",
            "RangeIndex: 800 entries, 0 to 799\n",
            "Data columns (total 10 columns):\n",
            " #   Column                    Non-Null Count  Dtype  \n",
            "---  ------                    --------------  -----  \n",
            " 0   Child ID                  800 non-null    int64  \n",
            " 1   Age                       800 non-null    int64  \n",
            " 2   Gender                    800 non-null    object \n",
            " 3   Current Mood              800 non-null    object \n",
            " 4   Parent Satisfaction       800 non-null    int64  \n",
            " 5   Engagement Level          800 non-null    int64  \n",
            " 6   Completed Tasks           800 non-null    int64  \n",
            " 7   Time Spent                800 non-null    float64\n",
            " 8   Correct in First Attempt  800 non-null    int64  \n",
            " 9   Level                     800 non-null    object \n",
            "dtypes: float64(1), int64(6), object(3)\n",
            "memory usage: 62.6+ KB\n",
            "None\n"
          ]
        }
      ]
    },
    {
      "cell_type": "markdown",
      "source": [
        "# Step 3: Check for Missing Values"
      ],
      "metadata": {
        "id": "5PDHcJgFYuCS"
      }
    },
    {
      "cell_type": "code",
      "source": [
        "# Step 3: Check for Missing Values\n",
        "# -------------------------------\n",
        "print(\"\\nChecking for missing values:\")\n",
        "print(data.isnull().sum())"
      ],
      "metadata": {
        "colab": {
          "base_uri": "https://localhost:8080/"
        },
        "id": "3in7fz45R7Cd",
        "outputId": "12ac5bc7-b9e5-4ec4-d92a-6e69b9cd725e"
      },
      "execution_count": 4,
      "outputs": [
        {
          "output_type": "stream",
          "name": "stdout",
          "text": [
            "\n",
            "Checking for missing values:\n",
            "Child ID                    0\n",
            "Age                         0\n",
            "Gender                      0\n",
            "Current Mood                0\n",
            "Parent Satisfaction         0\n",
            "Engagement Level            0\n",
            "Completed Tasks             0\n",
            "Time Spent                  0\n",
            "Correct in First Attempt    0\n",
            "Level                       0\n",
            "dtype: int64\n"
          ]
        }
      ]
    },
    {
      "cell_type": "markdown",
      "source": [
        "# Step 4: Identify Categorical vs. Numeric Columns"
      ],
      "metadata": {
        "id": "l0wN0GKIYvkS"
      }
    },
    {
      "cell_type": "code",
      "source": [
        "# Step 4: Identify Categorical vs. Numeric Columns\n",
        "# -------------------------------\n",
        "categorical_cols = [\"Gender\", \"Current Mood\", \"Level\"]\n",
        "numeric_cols = [\"Age\", \"Parent Satisfaction\", \"Engagement Level\",\n",
        "               \"Completed Tasks\", \"Time Spent\", \"Correct in First Attempt\"]"
      ],
      "metadata": {
        "id": "MN8QJn2sR82z"
      },
      "execution_count": 5,
      "outputs": []
    },
    {
      "cell_type": "markdown",
      "source": [
        "# Step 5: Label Encode the Categorical Columns"
      ],
      "metadata": {
        "id": "HpxPFyw8Yxo6"
      }
    },
    {
      "cell_type": "code",
      "source": [
        "# Step 5: Label Encode the Categorical Columns\n",
        "# -------------------------------\n",
        "encoders = {}\n",
        "for col in categorical_cols:\n",
        "    le = LabelEncoder()\n",
        "    data[col] = le.fit_transform(data[col].astype(str))\n",
        "    encoders[col] = le\n",
        "\n",
        "print(\"\\nData after Label Encoding (preview):\")\n",
        "print(data.head())\n"
      ],
      "metadata": {
        "colab": {
          "base_uri": "https://localhost:8080/"
        },
        "id": "Fgrt57XYR-2q",
        "outputId": "cbdcaa92-d912-4163-94bd-e5af4eb8d8c2"
      },
      "execution_count": 6,
      "outputs": [
        {
          "output_type": "stream",
          "name": "stdout",
          "text": [
            "\n",
            "Data after Label Encoding (preview):\n",
            "   Child ID  Age  Gender  Current Mood  Parent Satisfaction  Engagement Level  \\\n",
            "0        82    6       0             1                    2                21   \n",
            "1        60    7       1             3                    2               143   \n",
            "2       298    8       1             5                    5               270   \n",
            "3        70    9       1             4                    4               282   \n",
            "4       652    7       0             5                    5               295   \n",
            "\n",
            "   Completed Tasks  Time Spent  Correct in First Attempt  Level  \n",
            "0                8        73.6                         1      4  \n",
            "1                2        43.3                         4      4  \n",
            "2                5        55.9                         7      0  \n",
            "3                7        41.7                         6      3  \n",
            "4                9        66.6                         6      0  \n"
          ]
        }
      ]
    },
    {
      "cell_type": "markdown",
      "source": [
        "# Step 6: Define Features (X) and Target (y)"
      ],
      "metadata": {
        "id": "ztaHjvt5YzKq"
      }
    },
    {
      "cell_type": "code",
      "source": [
        "# Step 6: Define Features (X) and Target (y)\n",
        "# -------------------------------\n",
        "# We want to predict \"Level\", so exclude it from features\n",
        "# Also, \"Child ID\" is usually just an identifier, so we skip it\n",
        "feature_cols = [\n",
        "    \"Age\", \"Gender\", \"Current Mood\", \"Parent Satisfaction\",\n",
        "    \"Engagement Level\", \"Completed Tasks\", \"Time Spent\",\n",
        "    \"Correct in First Attempt\"\n",
        "]\n",
        "target_col = \"Level\"\n",
        "\n",
        "X = data[feature_cols]\n",
        "y = data[target_col]"
      ],
      "metadata": {
        "id": "g_YIQhX1SBMT"
      },
      "execution_count": 7,
      "outputs": []
    },
    {
      "cell_type": "markdown",
      "source": [
        "# Step 7: Split Data into Training and Test Sets"
      ],
      "metadata": {
        "id": "Fc_7zTCiY0rf"
      }
    },
    {
      "cell_type": "code",
      "source": [
        "# Step 7: Split Data into Training and Test Sets\n",
        "# -------------------------------\n",
        "X_train, X_test, y_train, y_test = train_test_split(\n",
        "    X, y, test_size=0.2, random_state=42\n",
        ")\n",
        "\n",
        "print(\"\\nTraining set size:\", X_train.shape)\n",
        "print(\"Test set size:\", X_test.shape)"
      ],
      "metadata": {
        "colab": {
          "base_uri": "https://localhost:8080/"
        },
        "id": "gi26ntExSDLs",
        "outputId": "035d93dc-a467-4b92-a123-5663db5ac47a"
      },
      "execution_count": 8,
      "outputs": [
        {
          "output_type": "stream",
          "name": "stdout",
          "text": [
            "\n",
            "Training set size: (640, 8)\n",
            "Test set size: (160, 8)\n"
          ]
        }
      ]
    },
    {
      "cell_type": "markdown",
      "source": [
        "# Step 8: Train a CatBoost Classifier"
      ],
      "metadata": {
        "id": "76wiIb5NY2GQ"
      }
    },
    {
      "cell_type": "code",
      "source": [
        "# Step 8: Train a CatBoost Classifier\n",
        "# -------------------------------\n",
        "# Identify categorical feature indices\n",
        "cat_features = [X_train.columns.get_loc(col) for col in [\"Gender\", \"Current Mood\"]]\n",
        "\n",
        "# Initialize CatBoost\n",
        "model = CatBoostClassifier(\n",
        "    iterations=100,\n",
        "    learning_rate=0.1,\n",
        "    depth=6,\n",
        "    loss_function='MultiClass',\n",
        "    eval_metric='Accuracy',\n",
        "    random_seed=42,\n",
        "    cat_features=cat_features,\n",
        "    verbose=10\n",
        ")\n",
        "\n",
        "# Fit the model\n",
        "model.fit(\n",
        "    X_train, y_train,\n",
        "    eval_set=(X_test, y_test),\n",
        "    plot=True\n",
        ")\n"
      ],
      "metadata": {
        "colab": {
          "base_uri": "https://localhost:8080/",
          "height": 312,
          "referenced_widgets": [
            "834095aad4c64fbfa681bfd3cb6dc35c"
          ]
        },
        "id": "HsPa_UugSGUz",
        "outputId": "9b8340ea-7ef2-4805-e58e-74ccdfe90b97"
      },
      "execution_count": 9,
      "outputs": [
        {
          "output_type": "display_data",
          "data": {
            "text/plain": [
              "MetricVisualizer(layout=Layout(align_self='stretch', height='500px'))"
            ],
            "application/vnd.jupyter.widget-view+json": {
              "version_major": 2,
              "version_minor": 0,
              "model_id": "834095aad4c64fbfa681bfd3cb6dc35c"
            }
          },
          "metadata": {}
        },
        {
          "output_type": "stream",
          "name": "stdout",
          "text": [
            "0:\tlearn: 0.7515625\ttest: 0.6375000\tbest: 0.6375000 (0)\ttotal: 64.1ms\tremaining: 6.35s\n",
            "10:\tlearn: 0.9468750\ttest: 0.9125000\tbest: 0.9125000 (10)\ttotal: 205ms\tremaining: 1.66s\n",
            "20:\tlearn: 0.9609375\ttest: 0.9187500\tbest: 0.9250000 (13)\ttotal: 327ms\tremaining: 1.23s\n",
            "30:\tlearn: 0.9718750\ttest: 0.9250000\tbest: 0.9312500 (27)\ttotal: 449ms\tremaining: 1000ms\n",
            "40:\tlearn: 0.9750000\ttest: 0.9250000\tbest: 0.9312500 (27)\ttotal: 538ms\tremaining: 774ms\n",
            "50:\tlearn: 0.9812500\ttest: 0.9125000\tbest: 0.9312500 (27)\ttotal: 650ms\tremaining: 625ms\n",
            "60:\tlearn: 0.9875000\ttest: 0.9125000\tbest: 0.9312500 (27)\ttotal: 776ms\tremaining: 496ms\n",
            "70:\tlearn: 0.9921875\ttest: 0.9125000\tbest: 0.9312500 (27)\ttotal: 894ms\tremaining: 365ms\n",
            "80:\tlearn: 0.9937500\ttest: 0.9187500\tbest: 0.9312500 (27)\ttotal: 987ms\tremaining: 232ms\n",
            "90:\tlearn: 0.9937500\ttest: 0.9125000\tbest: 0.9312500 (27)\ttotal: 1.06s\tremaining: 105ms\n",
            "99:\tlearn: 0.9953125\ttest: 0.9125000\tbest: 0.9312500 (27)\ttotal: 1.12s\tremaining: 0us\n",
            "\n",
            "bestTest = 0.93125\n",
            "bestIteration = 27\n",
            "\n",
            "Shrink model to first 28 iterations.\n"
          ]
        },
        {
          "output_type": "execute_result",
          "data": {
            "text/plain": [
              "<catboost.core.CatBoostClassifier at 0x7e518db58210>"
            ]
          },
          "metadata": {},
          "execution_count": 9
        }
      ]
    },
    {
      "cell_type": "markdown",
      "source": [
        "# Step 9: Evaluate the Model on the Test Set"
      ],
      "metadata": {
        "id": "D5KLWctfY3q5"
      }
    },
    {
      "cell_type": "code",
      "source": [
        "# Step 9: Evaluate the Model on the Test Set\n",
        "# -------------------------------\n",
        "y_pred = model.predict(X_test)\n",
        "accuracy = accuracy_score(y_test, y_pred)\n",
        "\n",
        "print(\"\\nModel Accuracy on Test Set: {:.2f}%\".format(accuracy * 100))\n",
        "print(\"\\nClassification Report:\")\n",
        "print(classification_report(y_test, y_pred))\n",
        "\n",
        "# Confusion Matrix\n",
        "cm = confusion_matrix(y_test, y_pred)\n",
        "plt.figure(figsize=(6, 5))\n",
        "plt.imshow(cm, interpolation='nearest', cmap=plt.cm.Blues)\n",
        "plt.title(\"Confusion Matrix\")\n",
        "plt.colorbar()\n",
        "\n",
        "# Add readable labels\n",
        "level_classes = encoders[\"Level\"].classes_\n",
        "tick_marks = np.arange(len(level_classes))\n",
        "plt.xticks(tick_marks, level_classes, rotation=45)\n",
        "plt.yticks(tick_marks, level_classes)\n",
        "plt.xlabel(\"Predicted Label\")\n",
        "plt.ylabel(\"True Label\")\n",
        "\n",
        "# Annotate counts\n",
        "thresh = cm.max() / 2.\n",
        "for i in range(cm.shape[0]):\n",
        "    for j in range(cm.shape[1]):\n",
        "        plt.text(j, i, format(cm[i, j], 'd'),\n",
        "                 ha=\"center\", va=\"center\",\n",
        "                 color=\"white\" if cm[i, j] > thresh else \"black\")\n",
        "\n",
        "plt.tight_layout()\n",
        "plt.show()\n",
        "\n",
        "# Feature Importances\n",
        "feature_importances = model.get_feature_importance()\n",
        "feature_names = X_train.columns\n",
        "\n",
        "plt.figure(figsize=(10, 6))\n",
        "plt.title(\"Feature Importances\")\n",
        "plt.bar(range(len(feature_names)), feature_importances, align=\"center\")\n",
        "plt.xticks(range(len(feature_names)), feature_names, rotation=45)\n",
        "plt.tight_layout()\n",
        "plt.show()"
      ],
      "metadata": {
        "colab": {
          "base_uri": "https://localhost:8080/",
          "height": 1000
        },
        "id": "2j31bICpSKKp",
        "outputId": "558e4934-135f-4178-8a06-c74a2c6e2b9b"
      },
      "execution_count": 10,
      "outputs": [
        {
          "output_type": "stream",
          "name": "stdout",
          "text": [
            "\n",
            "Model Accuracy on Test Set: 93.12%\n",
            "\n",
            "Classification Report:\n",
            "              precision    recall  f1-score   support\n",
            "\n",
            "           0       0.97      1.00      0.98        31\n",
            "           1       0.86      0.86      0.86        36\n",
            "           2       0.92      0.86      0.89        28\n",
            "           3       1.00      1.00      1.00        26\n",
            "           4       0.93      0.95      0.94        39\n",
            "\n",
            "    accuracy                           0.93       160\n",
            "   macro avg       0.94      0.93      0.93       160\n",
            "weighted avg       0.93      0.93      0.93       160\n",
            "\n"
          ]
        },
        {
          "output_type": "display_data",
          "data": {
            "text/plain": [
              "<Figure size 600x500 with 2 Axes>"
            ],
            "image/png": "[encoded data removed]"
          },
          "metadata": {}
        },
        {
          "output_type": "display_data",
          "data": {
            "text/plain": [
              "<Figure size 1000x600 with 1 Axes>"
            ],
            "image/png": "[encoded data removed]"
          },
          "metadata": {}
        }
      ]
    },
    {
      "cell_type": "markdown",
      "source": [
        "# Step 10: SHAP Explainability"
      ],
      "metadata": {
        "id": "OG3rcO3iY6q0"
      }
    },
    {
      "cell_type": "code",
      "source": [
        "# Step 10: SHAP Explainability\n",
        "# -------------------------------\n",
        "# Initialize SHAP explainer\n",
        "explainer = shap.TreeExplainer(model)\n",
        "\n",
        "# Calculate SHAP values\n",
        "shap_values = explainer.shap_values(X_test)\n",
        "\n",
        "# Summary plot\n",
        "shap.summary_plot(shap_values, X_test, plot_type=\"bar\", class_names=level_classes)"
      ],
      "metadata": {
        "colab": {
          "base_uri": "https://localhost:8080/",
          "height": 476
        },
        "id": "9WF6bS7qSNfM",
        "outputId": "26e6f0b5-a7fe-4245-fd03-801063516bca"
      },
      "execution_count": 13,
      "outputs": [
        {
          "output_type": "display_data",
          "data": {
            "text/plain": [
              "<Figure size 800x470 with 1 Axes>"
            ],
            "image/png": "[encoded data removed]"
          },
          "metadata": {}
        }
      ]
    },
    {
      "cell_type": "markdown",
      "source": [
        "# Step 11: Save the model and encoders"
      ],
      "metadata": {
        "id": "Vko2GUjlY8n9"
      }
    },
    {
      "cell_type": "code",
      "source": [
        "# Step 11: Save the model and encoders\n",
        "# -------------------------------\n",
        "import joblib\n",
        "\n",
        "# Save the model\n",
        "model.save_model('autism_behavior_catboost_model.cbm')\n",
        "\n",
        "# Save the encoders\n",
        "joblib.dump(encoders, 'autism_behavior_encoders.pkl')\n",
        "\n",
        "print(\"\\nModel and encoders saved successfully!\")"
      ],
      "metadata": {
        "colab": {
          "base_uri": "https://localhost:8080/"
        },
        "id": "BB61l5dCSair",
        "outputId": "688062a5-4355-4367-b70a-200d2e06cdd3"
      },
      "execution_count": 14,
      "outputs": [
        {
          "output_type": "stream",
          "name": "stdout",
          "text": [
            "\n",
            "Model and encoders saved successfully!\n"
          ]
        }
      ]
    },
    {
      "cell_type": "markdown",
      "source": [
        "# Step 12: Test with Sample Data"
      ],
      "metadata": {
        "id": "peEFwtdZY-jn"
      }
    },
    {
      "cell_type": "code",
      "source": [
        "# Step 12: Test with Sample Data\n",
        "# -------------------------------\n",
        "# Create sample test data (similar structure to training data)\n",
        "sample_data = {\n",
        "    \"Age\": [7, 8, 9],\n",
        "    \"Gender\": [\"Female\", \"Male\", \"Female\"],\n",
        "    \"Current Mood\": [\"Happy\", \"Neutral\", \"Sad\"],\n",
        "    \"Parent Satisfaction\": [4, 5, 2],\n",
        "    \"Engagement Level\": [25, 230, 15],\n",
        "    \"Completed Tasks\": [8, 6, 4],\n",
        "    \"Time Spent\": [85.2, 62.7, 45.3],\n",
        "    \"Correct in First Attempt\": [6, 10, 3]\n",
        "}\n",
        "\n",
        "sample_df = pd.DataFrame(sample_data)\n",
        "\n",
        "# Preprocess the sample data (same encoding as training)\n",
        "for col in [\"Gender\", \"Current Mood\"]:\n",
        "    sample_df[col] = encoders[col].transform(sample_df[col])\n",
        "\n",
        "# Make predictions\n",
        "sample_predictions = model.predict(sample_df)\n",
        "sample_probabilities = model.predict_proba(sample_df)\n",
        "\n",
        "# Convert numeric predictions back to original labels\n",
        "predicted_levels = encoders[\"Level\"].inverse_transform(sample_predictions.ravel())\n",
        "\n",
        "# Create a results dataframe\n",
        "results = sample_df.copy()\n",
        "results[\"Predicted Level\"] = predicted_levels\n",
        "\n",
        "# Add probabilities for each class\n",
        "for i, level in enumerate(level_classes):\n",
        "    results[f\"Prob_{level}\"] = sample_probabilities[:, i]\n",
        "\n",
        "print(\"\\nSample Test Data Predictions:\")\n",
        "print(results[[\"Age\", \"Gender\", \"Current Mood\", \"Predicted Level\"]].head())\n",
        "\n",
        "# Detailed prediction explanation for first sample\n",
        "print(\"\\nDetailed prediction explanation for first sample:\")\n",
        "first_sample = sample_df.iloc[0:1]\n",
        "first_sample_pred = model.predict(first_sample)\n",
        "first_sample_prob = model.predict_proba(first_sample)\n",
        "\n",
        "print(\"\\nInput features:\")\n",
        "print(first_sample)\n",
        "\n",
        "print(\"\\nPredicted Level:\", encoders[\"Level\"].inverse_transform(first_sample_pred)[0])\n",
        "print(\"\\nClass probabilities:\")\n",
        "for level, prob in zip(level_classes, first_sample_prob[0]):\n",
        "    print(f\"{level}: {prob:.4f}\")"
      ],
      "metadata": {
        "colab": {
          "base_uri": "https://localhost:8080/"
        },
        "id": "o55nT9EUSp7m",
        "outputId": "6873ea35-76c7-48ae-99c9-9923eb807802"
      },
      "execution_count": 21,
      "outputs": [
        {
          "output_type": "stream",
          "name": "stdout",
          "text": [
            "\n",
            "Sample Test Data Predictions:\n",
            "   Age  Gender  Current Mood Predicted Level\n",
            "0    7       0             4             Low\n",
            "1    8       1             5            High\n",
            "2    9       0             6             Low\n",
            "\n",
            "Detailed prediction explanation for first sample:\n",
            "\n",
            "Input features:\n",
            "   Age  Gender  Current Mood  Parent Satisfaction  Engagement Level  \\\n",
            "0    7       0             4                    4                25   \n",
            "\n",
            "   Completed Tasks  Time Spent  Correct in First Attempt  \n",
            "0                8        85.2                         6  \n",
            "\n",
            "Predicted Level: Low\n",
            "\n",
            "Class probabilities:\n",
            "High: 0.0596\n",
            "Low: 0.5882\n",
            "Moderate: 0.2168\n",
            "Very High: 0.0589\n",
            "Very Low: 0.0764\n"
          ]
        },
        {
          "output_type": "stream",
          "name": "stderr",
          "text": [
            "/usr/local/lib/python3.11/dist-packages/sklearn/preprocessing/_label.py:151: DataConversionWarning: A column-vector y was passed when a 1d array was expected. Please change the shape of y to (n_samples, ), for example using ravel().\n",
            "  y = column_or_1d(y, warn=True)\n"
          ]
        }
      ]
    }
  ]
}